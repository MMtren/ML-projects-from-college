{
  "nbformat": 4,
  "nbformat_minor": 0,
  "metadata": {
    "colab": {
      "provenance": [],
      "toc_visible": true,
      "gpuType": "T4"
    },
    "kernelspec": {
      "name": "python3",
      "display_name": "Python 3"
    },
    "language_info": {
      "name": "python"
    },
    "accelerator": "GPU"
  },
  "cells": [
    {
      "cell_type": "markdown",
      "source": [
        "# Imports"
      ],
      "metadata": {
        "id": "YONNWC7iSFNp"
      }
    },
    {
      "cell_type": "code",
      "source": [
        "!pip install -U accelerate\n",
        "!pip install -U transformers\n",
        "!pip install -U datasets"
      ],
      "metadata": {
        "id": "y9KyXvCYSifc",
        "colab": {
          "base_uri": "https://localhost:8080/"
        },
        "outputId": "7089192c-878e-4855-ce8a-0dba74f28c74"
      },
      "execution_count": null,
      "outputs": [
        {
          "output_type": "stream",
          "name": "stdout",
          "text": [
            "Requirement already satisfied: accelerate in /usr/local/lib/python3.10/dist-packages (0.30.0)\n",
            "Requirement already satisfied: numpy>=1.17 in /usr/local/lib/python3.10/dist-packages (from accelerate) (1.25.2)\n",
            "Requirement already satisfied: packaging>=20.0 in /usr/local/lib/python3.10/dist-packages (from accelerate) (24.0)\n",
            "Requirement already satisfied: psutil in /usr/local/lib/python3.10/dist-packages (from accelerate) (5.9.5)\n",
            "Requirement already satisfied: pyyaml in /usr/local/lib/python3.10/dist-packages (from accelerate) (6.0.1)\n",
            "Requirement already satisfied: torch>=1.10.0 in /usr/local/lib/python3.10/dist-packages (from accelerate) (2.2.1+cu121)\n",
            "Requirement already satisfied: huggingface-hub in /usr/local/lib/python3.10/dist-packages (from accelerate) (0.23.0)\n",
            "Requirement already satisfied: safetensors>=0.3.1 in /usr/local/lib/python3.10/dist-packages (from accelerate) (0.4.3)\n",
            "Requirement already satisfied: filelock in /usr/local/lib/python3.10/dist-packages (from torch>=1.10.0->accelerate) (3.14.0)\n",
            "Requirement already satisfied: typing-extensions>=4.8.0 in /usr/local/lib/python3.10/dist-packages (from torch>=1.10.0->accelerate) (4.11.0)\n",
            "Requirement already satisfied: sympy in /usr/local/lib/python3.10/dist-packages (from torch>=1.10.0->accelerate) (1.12)\n",
            "Requirement already satisfied: networkx in /usr/local/lib/python3.10/dist-packages (from torch>=1.10.0->accelerate) (3.3)\n",
            "Requirement already satisfied: jinja2 in /usr/local/lib/python3.10/dist-packages (from torch>=1.10.0->accelerate) (3.1.3)\n",
            "Requirement already satisfied: fsspec in /usr/local/lib/python3.10/dist-packages (from torch>=1.10.0->accelerate) (2023.6.0)\n",
            "Requirement already satisfied: nvidia-cuda-nvrtc-cu12==12.1.105 in /usr/local/lib/python3.10/dist-packages (from torch>=1.10.0->accelerate) (12.1.105)\n",
            "Requirement already satisfied: nvidia-cuda-runtime-cu12==12.1.105 in /usr/local/lib/python3.10/dist-packages (from torch>=1.10.0->accelerate) (12.1.105)\n",
            "Requirement already satisfied: nvidia-cuda-cupti-cu12==12.1.105 in /usr/local/lib/python3.10/dist-packages (from torch>=1.10.0->accelerate) (12.1.105)\n",
            "Requirement already satisfied: nvidia-cudnn-cu12==8.9.2.26 in /usr/local/lib/python3.10/dist-packages (from torch>=1.10.0->accelerate) (8.9.2.26)\n",
            "Requirement already satisfied: nvidia-cublas-cu12==12.1.3.1 in /usr/local/lib/python3.10/dist-packages (from torch>=1.10.0->accelerate) (12.1.3.1)\n",
            "Requirement already satisfied: nvidia-cufft-cu12==11.0.2.54 in /usr/local/lib/python3.10/dist-packages (from torch>=1.10.0->accelerate) (11.0.2.54)\n",
            "Requirement already satisfied: nvidia-curand-cu12==10.3.2.106 in /usr/local/lib/python3.10/dist-packages (from torch>=1.10.0->accelerate) (10.3.2.106)\n",
            "Requirement already satisfied: nvidia-cusolver-cu12==11.4.5.107 in /usr/local/lib/python3.10/dist-packages (from torch>=1.10.0->accelerate) (11.4.5.107)\n",
            "Requirement already satisfied: nvidia-cusparse-cu12==12.1.0.106 in /usr/local/lib/python3.10/dist-packages (from torch>=1.10.0->accelerate) (12.1.0.106)\n",
            "Requirement already satisfied: nvidia-nccl-cu12==2.19.3 in /usr/local/lib/python3.10/dist-packages (from torch>=1.10.0->accelerate) (2.19.3)\n",
            "Requirement already satisfied: nvidia-nvtx-cu12==12.1.105 in /usr/local/lib/python3.10/dist-packages (from torch>=1.10.0->accelerate) (12.1.105)\n",
            "Requirement already satisfied: triton==2.2.0 in /usr/local/lib/python3.10/dist-packages (from torch>=1.10.0->accelerate) (2.2.0)\n",
            "Requirement already satisfied: nvidia-nvjitlink-cu12 in /usr/local/lib/python3.10/dist-packages (from nvidia-cusolver-cu12==11.4.5.107->torch>=1.10.0->accelerate) (12.4.127)\n",
            "Requirement already satisfied: requests in /usr/local/lib/python3.10/dist-packages (from huggingface-hub->accelerate) (2.31.0)\n",
            "Requirement already satisfied: tqdm>=4.42.1 in /usr/local/lib/python3.10/dist-packages (from huggingface-hub->accelerate) (4.66.2)\n",
            "Requirement already satisfied: MarkupSafe>=2.0 in /usr/local/lib/python3.10/dist-packages (from jinja2->torch>=1.10.0->accelerate) (2.1.5)\n",
            "Requirement already satisfied: charset-normalizer<4,>=2 in /usr/local/lib/python3.10/dist-packages (from requests->huggingface-hub->accelerate) (3.3.2)\n",
            "Requirement already satisfied: idna<4,>=2.5 in /usr/local/lib/python3.10/dist-packages (from requests->huggingface-hub->accelerate) (3.7)\n",
            "Requirement already satisfied: urllib3<3,>=1.21.1 in /usr/local/lib/python3.10/dist-packages (from requests->huggingface-hub->accelerate) (2.0.7)\n",
            "Requirement already satisfied: certifi>=2017.4.17 in /usr/local/lib/python3.10/dist-packages (from requests->huggingface-hub->accelerate) (2024.2.2)\n",
            "Requirement already satisfied: mpmath>=0.19 in /usr/local/lib/python3.10/dist-packages (from sympy->torch>=1.10.0->accelerate) (1.3.0)\n",
            "Requirement already satisfied: transformers in /usr/local/lib/python3.10/dist-packages (4.40.1)\n",
            "Requirement already satisfied: filelock in /usr/local/lib/python3.10/dist-packages (from transformers) (3.14.0)\n",
            "Requirement already satisfied: huggingface-hub<1.0,>=0.19.3 in /usr/local/lib/python3.10/dist-packages (from transformers) (0.23.0)\n",
            "Requirement already satisfied: numpy>=1.17 in /usr/local/lib/python3.10/dist-packages (from transformers) (1.25.2)\n",
            "Requirement already satisfied: packaging>=20.0 in /usr/local/lib/python3.10/dist-packages (from transformers) (24.0)\n",
            "Requirement already satisfied: pyyaml>=5.1 in /usr/local/lib/python3.10/dist-packages (from transformers) (6.0.1)\n",
            "Requirement already satisfied: regex!=2019.12.17 in /usr/local/lib/python3.10/dist-packages (from transformers) (2023.12.25)\n",
            "Requirement already satisfied: requests in /usr/local/lib/python3.10/dist-packages (from transformers) (2.31.0)\n",
            "Requirement already satisfied: tokenizers<0.20,>=0.19 in /usr/local/lib/python3.10/dist-packages (from transformers) (0.19.1)\n",
            "Requirement already satisfied: safetensors>=0.4.1 in /usr/local/lib/python3.10/dist-packages (from transformers) (0.4.3)\n",
            "Requirement already satisfied: tqdm>=4.27 in /usr/local/lib/python3.10/dist-packages (from transformers) (4.66.2)\n",
            "Requirement already satisfied: fsspec>=2023.5.0 in /usr/local/lib/python3.10/dist-packages (from huggingface-hub<1.0,>=0.19.3->transformers) (2023.6.0)\n",
            "Requirement already satisfied: typing-extensions>=3.7.4.3 in /usr/local/lib/python3.10/dist-packages (from huggingface-hub<1.0,>=0.19.3->transformers) (4.11.0)\n",
            "Requirement already satisfied: charset-normalizer<4,>=2 in /usr/local/lib/python3.10/dist-packages (from requests->transformers) (3.3.2)\n",
            "Requirement already satisfied: idna<4,>=2.5 in /usr/local/lib/python3.10/dist-packages (from requests->transformers) (3.7)\n",
            "Requirement already satisfied: urllib3<3,>=1.21.1 in /usr/local/lib/python3.10/dist-packages (from requests->transformers) (2.0.7)\n",
            "Requirement already satisfied: certifi>=2017.4.17 in /usr/local/lib/python3.10/dist-packages (from requests->transformers) (2024.2.2)\n",
            "Requirement already satisfied: datasets in /usr/local/lib/python3.10/dist-packages (2.19.0)\n",
            "Requirement already satisfied: filelock in /usr/local/lib/python3.10/dist-packages (from datasets) (3.14.0)\n",
            "Requirement already satisfied: numpy>=1.17 in /usr/local/lib/python3.10/dist-packages (from datasets) (1.25.2)\n",
            "Requirement already satisfied: pyarrow>=12.0.0 in /usr/local/lib/python3.10/dist-packages (from datasets) (14.0.2)\n",
            "Requirement already satisfied: pyarrow-hotfix in /usr/local/lib/python3.10/dist-packages (from datasets) (0.6)\n",
            "Requirement already satisfied: dill<0.3.9,>=0.3.0 in /usr/local/lib/python3.10/dist-packages (from datasets) (0.3.8)\n",
            "Requirement already satisfied: pandas in /usr/local/lib/python3.10/dist-packages (from datasets) (2.0.3)\n",
            "Requirement already satisfied: requests>=2.19.0 in /usr/local/lib/python3.10/dist-packages (from datasets) (2.31.0)\n",
            "Requirement already satisfied: tqdm>=4.62.1 in /usr/local/lib/python3.10/dist-packages (from datasets) (4.66.2)\n",
            "Requirement already satisfied: xxhash in /usr/local/lib/python3.10/dist-packages (from datasets) (3.4.1)\n",
            "Requirement already satisfied: multiprocess in /usr/local/lib/python3.10/dist-packages (from datasets) (0.70.16)\n",
            "Requirement already satisfied: fsspec[http]<=2024.3.1,>=2023.1.0 in /usr/local/lib/python3.10/dist-packages (from datasets) (2023.6.0)\n",
            "Requirement already satisfied: aiohttp in /usr/local/lib/python3.10/dist-packages (from datasets) (3.9.5)\n",
            "Requirement already satisfied: huggingface-hub>=0.21.2 in /usr/local/lib/python3.10/dist-packages (from datasets) (0.23.0)\n",
            "Requirement already satisfied: packaging in /usr/local/lib/python3.10/dist-packages (from datasets) (24.0)\n",
            "Requirement already satisfied: pyyaml>=5.1 in /usr/local/lib/python3.10/dist-packages (from datasets) (6.0.1)\n",
            "Requirement already satisfied: aiosignal>=1.1.2 in /usr/local/lib/python3.10/dist-packages (from aiohttp->datasets) (1.3.1)\n",
            "Requirement already satisfied: attrs>=17.3.0 in /usr/local/lib/python3.10/dist-packages (from aiohttp->datasets) (23.2.0)\n",
            "Requirement already satisfied: frozenlist>=1.1.1 in /usr/local/lib/python3.10/dist-packages (from aiohttp->datasets) (1.4.1)\n",
            "Requirement already satisfied: multidict<7.0,>=4.5 in /usr/local/lib/python3.10/dist-packages (from aiohttp->datasets) (6.0.5)\n",
            "Requirement already satisfied: yarl<2.0,>=1.0 in /usr/local/lib/python3.10/dist-packages (from aiohttp->datasets) (1.9.4)\n",
            "Requirement already satisfied: async-timeout<5.0,>=4.0 in /usr/local/lib/python3.10/dist-packages (from aiohttp->datasets) (4.0.3)\n",
            "Requirement already satisfied: typing-extensions>=3.7.4.3 in /usr/local/lib/python3.10/dist-packages (from huggingface-hub>=0.21.2->datasets) (4.11.0)\n",
            "Requirement already satisfied: charset-normalizer<4,>=2 in /usr/local/lib/python3.10/dist-packages (from requests>=2.19.0->datasets) (3.3.2)\n",
            "Requirement already satisfied: idna<4,>=2.5 in /usr/local/lib/python3.10/dist-packages (from requests>=2.19.0->datasets) (3.7)\n",
            "Requirement already satisfied: urllib3<3,>=1.21.1 in /usr/local/lib/python3.10/dist-packages (from requests>=2.19.0->datasets) (2.0.7)\n",
            "Requirement already satisfied: certifi>=2017.4.17 in /usr/local/lib/python3.10/dist-packages (from requests>=2.19.0->datasets) (2024.2.2)\n",
            "Requirement already satisfied: python-dateutil>=2.8.2 in /usr/local/lib/python3.10/dist-packages (from pandas->datasets) (2.8.2)\n",
            "Requirement already satisfied: pytz>=2020.1 in /usr/local/lib/python3.10/dist-packages (from pandas->datasets) (2023.4)\n",
            "Requirement already satisfied: tzdata>=2022.1 in /usr/local/lib/python3.10/dist-packages (from pandas->datasets) (2024.1)\n",
            "Requirement already satisfied: six>=1.5 in /usr/local/lib/python3.10/dist-packages (from python-dateutil>=2.8.2->pandas->datasets) (1.16.0)\n"
          ]
        }
      ]
    },
    {
      "cell_type": "code",
      "source": [
        "import transformers\n",
        "from datasets import load_dataset\n",
        "from datasets import load_metric\n",
        "from transformers import AutoTokenizer\n",
        "from transformers import AutoModelForSequenceClassification, TrainingArguments, Trainer\n",
        "from transformers import EarlyStoppingCallback\n",
        "import pandas as pd\n",
        "import numpy as np\n",
        "from sklearn.preprocessing import LabelEncoder"
      ],
      "metadata": {
        "id": "lpj8gd5iSImg"
      },
      "execution_count": null,
      "outputs": []
    },
    {
      "cell_type": "markdown",
      "source": [
        "# Data"
      ],
      "metadata": {
        "id": "LZXw64InSGXW"
      }
    },
    {
      "cell_type": "markdown",
      "source": [
        "The data set contains input_text in the form of symptoms that are considered by the patient and subjected to diagnoses.\n",
        "Data set"
      ],
      "metadata": {
        "id": "fjz4q0__V54d"
      }
    },
    {
      "cell_type": "markdown",
      "source": [
        "Data set source [huggingface](https://huggingface.co/datasets/gretelai/symptom_to_diagnosis)"
      ],
      "metadata": {
        "id": "kQK2fPzlXtw3"
      }
    },
    {
      "cell_type": "code",
      "source": [
        "dataset = load_dataset(\"gretelai/symptom_to_diagnosis\")"
      ],
      "metadata": {
        "id": "kDODTEL-SY3u"
      },
      "execution_count": null,
      "outputs": []
    },
    {
      "cell_type": "code",
      "source": [
        "dataset"
      ],
      "metadata": {
        "colab": {
          "base_uri": "https://localhost:8080/"
        },
        "id": "WSdcwDHOTAEb",
        "outputId": "84af6c3f-4df6-42e1-874b-f88a294d4eba"
      },
      "execution_count": null,
      "outputs": [
        {
          "output_type": "execute_result",
          "data": {
            "text/plain": [
              "DatasetDict({\n",
              "    train: Dataset({\n",
              "        features: ['output_text', 'input_text'],\n",
              "        num_rows: 853\n",
              "    })\n",
              "    test: Dataset({\n",
              "        features: ['output_text', 'input_text'],\n",
              "        num_rows: 212\n",
              "    })\n",
              "})"
            ]
          },
          "metadata": {},
          "execution_count": 75
        }
      ]
    },
    {
      "cell_type": "code",
      "source": [
        "dataset=dataset.rename_column('output_text', 'label').rename_column('input_text', 'text')"
      ],
      "metadata": {
        "id": "g-WKKmmxEqwD"
      },
      "execution_count": null,
      "outputs": []
    },
    {
      "cell_type": "code",
      "source": [
        "example_text = dataset['train'][1]['text']\n",
        "example_label = dataset['train'][1]['label']"
      ],
      "metadata": {
        "id": "iwLkhoQ7TIOv"
      },
      "execution_count": null,
      "outputs": []
    },
    {
      "cell_type": "markdown",
      "source": [
        "Przykład z zbioru treningowego wraz z etykietą"
      ],
      "metadata": {
        "id": "zfqL9wpMX-V2"
      }
    },
    {
      "cell_type": "code",
      "source": [
        "print(example_text)\n",
        "print(f'label: {example_label}')"
      ],
      "metadata": {
        "id": "bog87AekTQx4",
        "colab": {
          "base_uri": "https://localhost:8080/"
        },
        "outputId": "ead327a8-a24b-43cf-d600-41f58428e56b"
      },
      "execution_count": null,
      "outputs": [
        {
          "output_type": "stream",
          "name": "stdout",
          "text": [
            "I have a rash on my face that is getting worse. It is red, inflamed, and has blisters that are bleeding clear pus. It is really painful.\n",
            "label: impetigo\n"
          ]
        }
      ]
    },
    {
      "cell_type": "code",
      "source": [
        "df_train=pd.DataFrame.from_dict(dataset['train'])"
      ],
      "metadata": {
        "id": "piAwWIk0UiKx"
      },
      "execution_count": null,
      "outputs": []
    },
    {
      "cell_type": "code",
      "source": [
        "df_train.shape"
      ],
      "metadata": {
        "id": "CGY1xPGrVxBQ",
        "colab": {
          "base_uri": "https://localhost:8080/"
        },
        "outputId": "87294fcf-026e-47f5-8b6e-bfc9452a80ba"
      },
      "execution_count": null,
      "outputs": [
        {
          "output_type": "execute_result",
          "data": {
            "text/plain": [
              "(853, 2)"
            ]
          },
          "metadata": {},
          "execution_count": 80
        }
      ]
    },
    {
      "cell_type": "markdown",
      "source": [
        "The average length of input_text is 150a, the general range is 55-285"
      ],
      "metadata": {
        "id": "94u7erjeYa5f"
      }
    },
    {
      "cell_type": "code",
      "source": [
        "print(f'Średnia długość input_text: {df_train[\"text\"].str.len().mean()}')\n",
        "print(f'Min długość input_text: {df_train[\"text\"].str.len().min()}')\n",
        "print(f'Max długość input_text: {df_train[\"text\"].str.len().max()}')"
      ],
      "metadata": {
        "id": "vDTScJBnXgON",
        "colab": {
          "base_uri": "https://localhost:8080/"
        },
        "outputId": "7a457b2c-1e76-4490-d4c4-f3974e20dbc6"
      },
      "execution_count": null,
      "outputs": [
        {
          "output_type": "stream",
          "name": "stdout",
          "text": [
            "Średnia długość input_text: 150.0082063305979\n",
            "Min długość input_text: 55\n",
            "Max długość input_text: 285\n"
          ]
        }
      ]
    },
    {
      "cell_type": "markdown",
      "source": [
        "\n",
        "There is an equal distribution of classes in the data among 22 categories, the data are balanced."
      ],
      "metadata": {
        "id": "N4oH4azHYKxE"
      }
    },
    {
      "cell_type": "code",
      "source": [
        "print(f'Liczba kategorii: {len(df_train[\"label\"].unique())}')"
      ],
      "metadata": {
        "id": "s6hpkn5bWA6H",
        "colab": {
          "base_uri": "https://localhost:8080/"
        },
        "outputId": "3e487d36-65b1-40a9-fd95-428dd9972714"
      },
      "execution_count": null,
      "outputs": [
        {
          "output_type": "stream",
          "name": "stdout",
          "text": [
            "Liczba kategorii: 22\n"
          ]
        }
      ]
    },
    {
      "cell_type": "code",
      "source": [
        "df_train['label'].value_counts()"
      ],
      "metadata": {
        "id": "pzKcxSg6VWTe",
        "colab": {
          "base_uri": "https://localhost:8080/"
        },
        "outputId": "7745a7d6-8a14-4ece-c851-5fceb8468715"
      },
      "execution_count": null,
      "outputs": [
        {
          "output_type": "execute_result",
          "data": {
            "text/plain": [
              "label\n",
              "cervical spondylosis               40\n",
              "allergy                            40\n",
              "chicken pox                        40\n",
              "diabetes                           40\n",
              "psoriasis                          40\n",
              "hypertension                       40\n",
              "impetigo                           40\n",
              "bronchial asthma                   40\n",
              "varicose veins                     40\n",
              "malaria                            40\n",
              "drug reaction                      40\n",
              "dengue                             40\n",
              "arthritis                          40\n",
              "fungal infection                   39\n",
              "common cold                        39\n",
              "gastroesophageal reflux disease    39\n",
              "urinary tract infection            39\n",
              "typhoid                            38\n",
              "pneumonia                          37\n",
              "peptic ulcer disease               37\n",
              "jaundice                           33\n",
              "migraine                           32\n",
              "Name: count, dtype: int64"
            ]
          },
          "metadata": {},
          "execution_count": 83
        }
      ]
    },
    {
      "cell_type": "code",
      "source": [],
      "metadata": {
        "id": "-IasC57_XIND"
      },
      "execution_count": null,
      "outputs": []
    },
    {
      "cell_type": "markdown",
      "source": [
        "# Model Bert"
      ],
      "metadata": {
        "id": "JgYj0-LGSGqM"
      }
    },
    {
      "cell_type": "code",
      "source": [
        "model_checkpoint = 'distilbert-base-uncased'\n",
        "batch_size = 64"
      ],
      "metadata": {
        "id": "nfZUGCSODb_n"
      },
      "execution_count": null,
      "outputs": []
    },
    {
      "cell_type": "markdown",
      "source": [
        "Tokenization"
      ],
      "metadata": {
        "id": "Qqk-BGxcLjzr"
      }
    },
    {
      "cell_type": "code",
      "source": [
        "tokenizer = AutoTokenizer.from_pretrained(model_checkpoint,use_fast=True)"
      ],
      "metadata": {
        "id": "IQRVoiZDGiFb",
        "colab": {
          "base_uri": "https://localhost:8080/"
        },
        "outputId": "43c2c2e5-2229-4e41-b0ca-cd691863aecd"
      },
      "execution_count": null,
      "outputs": [
        {
          "output_type": "stream",
          "name": "stderr",
          "text": [
            "/usr/local/lib/python3.10/dist-packages/huggingface_hub/file_download.py:1132: FutureWarning: `resume_download` is deprecated and will be removed in version 1.0.0. Downloads always resume when possible. If you want to force a new download, use `force_download=True`.\n",
            "  warnings.warn(\n"
          ]
        }
      ]
    },
    {
      "cell_type": "code",
      "source": [
        "dataset"
      ],
      "metadata": {
        "colab": {
          "base_uri": "https://localhost:8080/"
        },
        "id": "Ph3RZlCGLCIQ",
        "outputId": "025ee75f-be6a-4b96-bee8-ac1c9f9c90c5"
      },
      "execution_count": null,
      "outputs": [
        {
          "output_type": "execute_result",
          "data": {
            "text/plain": [
              "DatasetDict({\n",
              "    train: Dataset({\n",
              "        features: ['label', 'text'],\n",
              "        num_rows: 853\n",
              "    })\n",
              "    test: Dataset({\n",
              "        features: ['label', 'text'],\n",
              "        num_rows: 212\n",
              "    })\n",
              "})"
            ]
          },
          "metadata": {},
          "execution_count": 86
        }
      ]
    },
    {
      "cell_type": "code",
      "source": [
        "def process(dataset):\n",
        "  return tokenizer(dataset['text'])\n",
        "\n",
        "train_ds = dataset['train'].map(process)\n",
        "test_ds = dataset['test'].map(process)"
      ],
      "metadata": {
        "id": "0CzEz2TAHkyj"
      },
      "execution_count": null,
      "outputs": []
    },
    {
      "cell_type": "code",
      "source": [
        "train_ds"
      ],
      "metadata": {
        "colab": {
          "base_uri": "https://localhost:8080/"
        },
        "id": "ZlPk55pQJt8I",
        "outputId": "20def4f6-e4cc-4bc2-8cc0-0940b9e023a5"
      },
      "execution_count": null,
      "outputs": [
        {
          "output_type": "execute_result",
          "data": {
            "text/plain": [
              "Dataset({\n",
              "    features: ['label', 'text', 'input_ids', 'attention_mask'],\n",
              "    num_rows: 853\n",
              "})"
            ]
          },
          "metadata": {},
          "execution_count": 88
        }
      ]
    },
    {
      "cell_type": "markdown",
      "source": [
        "# Bert fine tuning"
      ],
      "metadata": {
        "id": "rwlZU2EDepfv"
      }
    },
    {
      "cell_type": "markdown",
      "source": [
        "laabel encoder"
      ],
      "metadata": {
        "id": "LtRqgfxehXLT"
      }
    },
    {
      "cell_type": "code",
      "source": [
        "label_encoder = LabelEncoder()\n",
        "\n",
        "label_train=label_encoder.fit_transform(train_ds['label'])\n",
        "label_test=label_encoder.transform(test_ds['label'])\n",
        "\n",
        "train_ds = train_ds.remove_columns('label')\n",
        "train_ds = train_ds.add_column('label', label_train)\n",
        "\n",
        "test_ds = test_ds.remove_columns('label')\n",
        "test_ds = test_ds.add_column('label', label_test)"
      ],
      "metadata": {
        "id": "KXSn2Rs-KDOf"
      },
      "execution_count": null,
      "outputs": []
    },
    {
      "cell_type": "code",
      "source": [
        "num_labels = 22\n",
        "model = AutoModelForSequenceClassification.from_pretrained(model_checkpoint, num_labels=num_labels)"
      ],
      "metadata": {
        "colab": {
          "base_uri": "https://localhost:8080/"
        },
        "id": "gWYJiI8aKTCQ",
        "outputId": "1acc7d54-2be5-4042-bc0a-7efca6339ba9"
      },
      "execution_count": null,
      "outputs": [
        {
          "output_type": "stream",
          "name": "stderr",
          "text": [
            "/usr/local/lib/python3.10/dist-packages/huggingface_hub/file_download.py:1132: FutureWarning: `resume_download` is deprecated and will be removed in version 1.0.0. Downloads always resume when possible. If you want to force a new download, use `force_download=True`.\n",
            "  warnings.warn(\n",
            "Some weights of DistilBertForSequenceClassification were not initialized from the model checkpoint at distilbert-base-uncased and are newly initialized: ['classifier.bias', 'classifier.weight', 'pre_classifier.bias', 'pre_classifier.weight']\n",
            "You should probably TRAIN this model on a down-stream task to be able to use it for predictions and inference.\n"
          ]
        }
      ]
    },
    {
      "cell_type": "markdown",
      "source": [
        "\n",
        "Training arguments: 20 epochs with early stopping, learning_rate slightly higher than the base one works better in this case. steps = 50 apparently early stopping does not work after epochs"
      ],
      "metadata": {
        "id": "UCt1puHYMYXx"
      }
    },
    {
      "cell_type": "code",
      "source": [
        "args = TrainingArguments(\n",
        "    f'{model_checkpoint}_classification',\n",
        "    evaluation_strategy = 'steps',\n",
        "    eval_steps = 50,\n",
        "    save_strategy = 'steps',\n",
        "    learning_rate = 2e-4,\n",
        "    per_device_train_batch_size = batch_size,\n",
        "    per_device_eval_batch_size = batch_size,\n",
        "    num_train_epochs = 20,\n",
        "    weight_decay = 0.01,\n",
        "    load_best_model_at_end = True,\n",
        "    metric_for_best_model = 'eval_loss'\n",
        ")"
      ],
      "metadata": {
        "id": "z7v6JvaOKvWS"
      },
      "execution_count": null,
      "outputs": []
    },
    {
      "cell_type": "markdown",
      "source": [
        "Ewaluation"
      ],
      "metadata": {
        "id": "g3AmmlvXMcCo"
      }
    },
    {
      "cell_type": "code",
      "source": [
        "\n",
        "metric = load_metric('glue', 'sst2')\n",
        "\n",
        "def compute_metrics(eval_preds):\n",
        "  logits, labels = eval_preds\n",
        "  predictions = np.argmax(logits, axis=1)\n",
        "  return metric.compute(predictions=predictions, references=labels)"
      ],
      "metadata": {
        "id": "Uez9OJn3McIj",
        "colab": {
          "base_uri": "https://localhost:8080/"
        },
        "outputId": "4ee9ac91-9c49-4c72-9db5-d02c8d81efa4"
      },
      "execution_count": null,
      "outputs": [
        {
          "output_type": "stream",
          "name": "stderr",
          "text": [
            "/usr/local/lib/python3.10/dist-packages/datasets/load.py:759: FutureWarning: The repository for glue contains custom code which must be executed to correctly load the metric. You can inspect the repository content at https://raw.githubusercontent.com/huggingface/datasets/2.19.0/metrics/glue/glue.py\n",
            "You can avoid this message in future by passing the argument `trust_remote_code=True`.\n",
            "Passing `trust_remote_code=True` will be mandatory to load this metric from the next major release of `datasets`.\n",
            "  warnings.warn(\n"
          ]
        }
      ]
    },
    {
      "cell_type": "markdown",
      "source": [
        "trening"
      ],
      "metadata": {
        "id": "-RzLxkWkQDge"
      }
    },
    {
      "cell_type": "code",
      "source": [
        "trainer = Trainer(\n",
        "    model,\n",
        "    args,\n",
        "    train_dataset=train_ds,\n",
        "    eval_dataset=test_ds,\n",
        "    tokenizer=tokenizer,\n",
        "    compute_metrics=compute_metrics,\n",
        "    callbacks = [EarlyStoppingCallback(early_stopping_patience=3)]\n",
        ")"
      ],
      "metadata": {
        "id": "ADP91w0IQDlZ"
      },
      "execution_count": null,
      "outputs": []
    },
    {
      "cell_type": "code",
      "source": [
        "trainer.evaluate([train_ds[0]])"
      ],
      "metadata": {
        "id": "wdTcMQpaVNT5",
        "colab": {
          "base_uri": "https://localhost:8080/",
          "height": 124
        },
        "outputId": "24dd8daf-9168-41a2-9b53-e0c60947db52"
      },
      "execution_count": null,
      "outputs": [
        {
          "output_type": "display_data",
          "data": {
            "text/plain": [
              "<IPython.core.display.HTML object>"
            ],
            "text/html": [
              "\n",
              "    <div>\n",
              "      \n",
              "      <progress value='1' max='1' style='width:300px; height:20px; vertical-align: middle;'></progress>\n",
              "      [1/1 : < :]\n",
              "    </div>\n",
              "    "
            ]
          },
          "metadata": {}
        },
        {
          "output_type": "execute_result",
          "data": {
            "text/plain": [
              "{'eval_loss': 3.061356782913208,\n",
              " 'eval_accuracy': 0.0,\n",
              " 'eval_runtime': 0.021,\n",
              " 'eval_samples_per_second': 47.537,\n",
              " 'eval_steps_per_second': 47.537}"
            ]
          },
          "metadata": {},
          "execution_count": 94
        }
      ]
    },
    {
      "cell_type": "code",
      "source": [
        "trainer.train()"
      ],
      "metadata": {
        "id": "m5qnbbDkVpqX",
        "colab": {
          "base_uri": "https://localhost:8080/",
          "height": 287
        },
        "outputId": "df3864ae-098c-4d9b-e06e-5d053298215d"
      },
      "execution_count": null,
      "outputs": [
        {
          "output_type": "display_data",
          "data": {
            "text/plain": [
              "<IPython.core.display.HTML object>"
            ],
            "text/html": [
              "\n",
              "    <div>\n",
              "      \n",
              "      <progress value='280' max='280' style='width:300px; height:20px; vertical-align: middle;'></progress>\n",
              "      [280/280 01:33, Epoch 20/20]\n",
              "    </div>\n",
              "    <table border=\"1\" class=\"dataframe\">\n",
              "  <thead>\n",
              " <tr style=\"text-align: left;\">\n",
              "      <th>Step</th>\n",
              "      <th>Training Loss</th>\n",
              "      <th>Validation Loss</th>\n",
              "      <th>Accuracy</th>\n",
              "    </tr>\n",
              "  </thead>\n",
              "  <tbody>\n",
              "    <tr>\n",
              "      <td>50</td>\n",
              "      <td>No log</td>\n",
              "      <td>0.291442</td>\n",
              "      <td>0.943396</td>\n",
              "    </tr>\n",
              "    <tr>\n",
              "      <td>100</td>\n",
              "      <td>No log</td>\n",
              "      <td>0.207562</td>\n",
              "      <td>0.957547</td>\n",
              "    </tr>\n",
              "    <tr>\n",
              "      <td>150</td>\n",
              "      <td>No log</td>\n",
              "      <td>0.179195</td>\n",
              "      <td>0.952830</td>\n",
              "    </tr>\n",
              "    <tr>\n",
              "      <td>200</td>\n",
              "      <td>No log</td>\n",
              "      <td>0.100615</td>\n",
              "      <td>0.962264</td>\n",
              "    </tr>\n",
              "    <tr>\n",
              "      <td>250</td>\n",
              "      <td>No log</td>\n",
              "      <td>0.094653</td>\n",
              "      <td>0.962264</td>\n",
              "    </tr>\n",
              "  </tbody>\n",
              "</table><p>"
            ]
          },
          "metadata": {}
        },
        {
          "output_type": "display_data",
          "data": {
            "text/plain": [
              "<IPython.core.display.HTML object>"
            ],
            "text/html": [
              "\n",
              "    <div>\n",
              "      \n",
              "      <progress value='5' max='1' style='width:300px; height:20px; vertical-align: middle;'></progress>\n",
              "      [1/1 00:16]\n",
              "    </div>\n",
              "    "
            ]
          },
          "metadata": {}
        },
        {
          "output_type": "execute_result",
          "data": {
            "text/plain": [
              "TrainOutput(global_step=280, training_loss=0.29044298444475447, metrics={'train_runtime': 93.7432, 'train_samples_per_second': 181.987, 'train_steps_per_second': 2.987, 'total_flos': 287441607992460.0, 'train_loss': 0.29044298444475447, 'epoch': 20.0})"
            ]
          },
          "metadata": {},
          "execution_count": 95
        }
      ]
    },
    {
      "cell_type": "markdown",
      "source": [
        "Test"
      ],
      "metadata": {
        "id": "NAwnuV4Dy6B2"
      }
    },
    {
      "cell_type": "code",
      "source": [
        "pr = trainer.predict(test_ds)"
      ],
      "metadata": {
        "colab": {
          "base_uri": "https://localhost:8080/",
          "height": 17
        },
        "id": "hE6wZOVJDm-Z",
        "outputId": "f0f15dcd-dfb4-4598-8a6d-9bdf049a4bc2"
      },
      "execution_count": null,
      "outputs": [
        {
          "output_type": "display_data",
          "data": {
            "text/plain": [
              "<IPython.core.display.HTML object>"
            ],
            "text/html": []
          },
          "metadata": {}
        }
      ]
    },
    {
      "cell_type": "code",
      "source": [
        "pr"
      ],
      "metadata": {
        "colab": {
          "base_uri": "https://localhost:8080/"
        },
        "id": "hFcN6KTlx-et",
        "outputId": "b227d043-e2db-4950-9760-66fd39027b3a"
      },
      "execution_count": null,
      "outputs": [
        {
          "output_type": "execute_result",
          "data": {
            "text/plain": [
              "PredictionOutput(predictions=array([[-1.8427873 , -1.5164351 , -1.867207  , ..., -1.6409711 ,\n",
              "        -1.1499262 , -0.7330751 ],\n",
              "       [-1.8397233 , -1.7836807 , -1.5880076 , ..., -0.97567487,\n",
              "        -0.96963483, -0.78429925],\n",
              "       [-2.719376  , -0.4501806 , -2.7951896 , ..., -1.0033436 ,\n",
              "        -2.4412956 , -1.4977493 ],\n",
              "       ...,\n",
              "       [-2.1598184 , -1.8600755 ,  8.176122  , ..., -1.1640977 ,\n",
              "        -0.8451119 , -2.5301003 ],\n",
              "       [-2.415579  , -2.3618171 ,  5.9270453 , ..., -2.0370603 ,\n",
              "        -1.1900953 , -2.0366426 ],\n",
              "       [-2.9332669 , -0.96691906, -2.2541935 , ..., -0.39794827,\n",
              "        -1.7451724 , -1.5705713 ]], dtype=float32), label_ids=array([16, 16,  8, 17,  9,  3, 10, 18,  1, 17,  1,  3, 14, 19, 16, 14, 15,\n",
              "        2,  7, 13, 15, 14, 10, 14,  4,  1, 20,  4,  9, 13, 19,  3, 17,  2,\n",
              "        4, 10, 12, 11, 19,  9,  5, 11,  1, 12, 15,  8,  7, 17, 20,  6,  6,\n",
              "        4, 15,  3, 14, 13, 14,  5,  7, 17, 10,  2, 21,  5, 10, 18,  3, 16,\n",
              "        7,  7,  5,  5, 20, 13, 17,  4,  9, 19, 10, 15, 12,  6,  0,  1,  8,\n",
              "        0,  7, 12, 20,  0, 11,  5, 14,  4,  0,  1,  6,  4,  7, 21, 15, 11,\n",
              "       20, 10,  1,  0,  7,  3, 12, 10,  9,  6, 15,  5, 10, 18, 17,  3,  9,\n",
              "       16, 14,  0, 18, 11, 12,  4,  9, 12,  0, 17,  3, 18, 19,  8, 14,  7,\n",
              "       12, 21, 20, 19, 13, 20, 12, 18, 21,  5, 16, 11,  2, 11, 21, 20, 16,\n",
              "       14, 18, 15,  2, 20, 18,  6,  6, 11, 17,  0, 21, 21,  8, 21,  9,  3,\n",
              "       21, 19,  1,  9,  8, 16,  0, 10, 16,  3, 19, 11, 13, 12, 17,  2, 11,\n",
              "        5, 15, 19,  4,  5,  7, 15,  2,  6,  1,  8, 21,  0, 13, 18,  1,  8,\n",
              "        2, 16,  4,  6, 18,  2,  2,  6]), metrics={'test_loss': 0.09437872469425201, 'test_accuracy': 0.9622641509433962, 'test_runtime': 0.4392, 'test_samples_per_second': 482.747, 'test_steps_per_second': 9.108})"
            ]
          },
          "metadata": {},
          "execution_count": 97
        }
      ]
    },
    {
      "cell_type": "code",
      "source": [
        "from sklearn.metrics import confusion_matrix\n",
        "confusion = confusion_matrix(pr.label_ids, np.argmax(pr.predictions, axis=1))\n",
        "print(confusion)\n"
      ],
      "metadata": {
        "id": "glkg_ZIkOumW",
        "colab": {
          "base_uri": "https://localhost:8080/"
        },
        "outputId": "c815d406-e4e3-47ae-ba30-3756ae54185e"
      },
      "execution_count": null,
      "outputs": [
        {
          "output_type": "stream",
          "name": "stdout",
          "text": [
            "[[ 9  0  0  0  0  1  0  0  0  0  0  0  0  0  0  0  0  0  0  0  0  0]\n",
            " [ 0 10  0  0  0  0  0  0  0  0  0  0  0  0  0  0  0  0  0  0  0  0]\n",
            " [ 0  0 10  0  0  0  0  0  0  0  0  0  0  0  0  0  0  0  0  0  0  0]\n",
            " [ 0  0  0 10  0  0  0  0  0  0  0  0  0  0  0  0  0  0  0  0  0  0]\n",
            " [ 0  0  0  0 10  0  0  0  0  0  0  0  0  0  0  0  0  0  0  0  0  0]\n",
            " [ 0  0  0  0  0 10  0  0  0  0  0  0  0  0  0  0  0  0  0  0  0  0]\n",
            " [ 0  0  0  0  0  0  9  0  0  0  0  0  0  0  0  0  0  0  0  1  0  0]\n",
            " [ 0  0  0  0  0  0  0  9  0  0  0  0  0  0  0  0  0  0  0  0  1  0]\n",
            " [ 0  0  0  0  0  0  0  0  8  0  0  0  0  0  0  0  0  0  0  0  0  0]\n",
            " [ 0  0  0  0  0  0  0  0  0  9  0  0  0  0  0  0  0  0  0  0  0  0]\n",
            " [ 1  0  0  0  0  0  0  0  0  0  8  0  0  0  0  0  1  0  0  0  0  0]\n",
            " [ 0  0  0  0  0  0  0  0  0  0  0 10  0  0  0  0  0  0  0  0  0  0]\n",
            " [ 0  0  0  0  0  0  0  0  0  0  0  0 10  0  0  0  0  0  0  0  0  0]\n",
            " [ 0  0  0  0  0  0  0  0  0  0  0  0  0  7  0  0  0  0  0  0  0  0]\n",
            " [ 0  0  0  0  0  0  0  0  0  0  0  0  0  0 10  0  0  0  0  0  0  0]\n",
            " [ 0  0  0  0  0  0  0  0  0  0  0  0  0  0  0 10  0  0  0  0  0  0]\n",
            " [ 0  0  0  0  0  0  0  0  0  0  1  0  0  0  0  0  9  0  0  0  0  0]\n",
            " [ 0  0  0  0  0  0  0  0  0  0  0  0  0  0  0  0  0 10  0  0  0  0]\n",
            " [ 0  0  0  0  0  0  0  0  0  0  0  0  0  0  0  0  0  0 10  0  0  0]\n",
            " [ 0  0  1  0  0  0  1  0  0  0  0  0  0  0  0  0  0  0  0  7  0  0]\n",
            " [ 0  0  0  0  0  0  0  0  0  0  0  0  0  0  0  0  0  0  0  0  9  0]\n",
            " [ 0  0  0  0  0  0  0  0  0  0  0  0  0  0  0  0  0  0  0  0  0 10]]\n"
          ]
        }
      ]
    },
    {
      "cell_type": "code",
      "source": [
        "import seaborn as sns\n",
        "import matplotlib.pyplot as plt\n",
        "plt.figure(figsize=(12, 12))\n",
        "sns.heatmap(confusion, annot=True)\n",
        "\n",
        "plt.xticks(ticks=range(len(label_encoder.classes_)), labels=label_encoder.classes_, rotation=60)\n",
        "plt.yticks(ticks=range(len(label_encoder.classes_)), labels=label_encoder.classes_, rotation=0)\n",
        "\n",
        "plt.title('Confusion Matrix')\n",
        "plt.xlabel('Predicted')\n",
        "plt.ylabel('True')\n",
        "plt.show()"
      ],
      "metadata": {
        "colab": {
          "base_uri": "https://localhost:8080/",
          "height": 1000
        },
        "id": "d_zbk5-ryUtn",
        "outputId": "3a612f81-cae6-456d-d33e-e7cc7761e4a0"
      },
      "execution_count": null,
      "outputs": [
        {
          "output_type": "display_data",
          "data": {
            "text/plain": [
              "<Figure size 1200x1200 with 2 Axes>"
            ],
            "image/png": "[encoded data removed]"
          },
          "metadata": {}
        }
      ]
    },
    {
      "cell_type": "markdown",
      "source": [
        "Test on new sympthons"
      ],
      "metadata": {
        "id": "Uv2IpbGM56-J"
      }
    },
    {
      "cell_type": "code",
      "source": [
        "label_encoder.classes_"
      ],
      "metadata": {
        "colab": {
          "base_uri": "https://localhost:8080/"
        },
        "id": "vAiszXEj2SNE",
        "outputId": "69aa5cdb-b07f-419e-a0b0-de1f41da7c66"
      },
      "execution_count": null,
      "outputs": [
        {
          "output_type": "execute_result",
          "data": {
            "text/plain": [
              "array(['allergy', 'arthritis', 'bronchial asthma', 'cervical spondylosis',\n",
              "       'chicken pox', 'common cold', 'dengue', 'diabetes',\n",
              "       'drug reaction', 'fungal infection',\n",
              "       'gastroesophageal reflux disease', 'hypertension', 'impetigo',\n",
              "       'jaundice', 'malaria', 'migraine', 'peptic ulcer disease',\n",
              "       'pneumonia', 'psoriasis', 'typhoid', 'urinary tract infection',\n",
              "       'varicose veins'], dtype='<U31')"
            ]
          },
          "metadata": {},
          "execution_count": 100
        }
      ]
    },
    {
      "cell_type": "code",
      "source": [
        "import torch"
      ],
      "metadata": {
        "id": "lRJ0kU8hJD1K"
      },
      "execution_count": null,
      "outputs": []
    },
    {
      "cell_type": "code",
      "source": [
        "\n",
        "def make_diagnose(text):\n",
        "  inputs = tokenizer(text, return_tensors='pt')\n",
        "  device = 'cuda' if torch.cuda.is_available() else 'cpu'\n",
        "  input_ids = inputs['input_ids'].to(device)\n",
        "  attention_mask = inputs['attention_mask'].to(device)\n",
        "\n",
        "\n",
        "  with torch.no_grad():\n",
        "    outputs = model(input_ids=input_ids, attention_mask=attention_mask)\n",
        "    logits = outputs.logits\n",
        "    predictions = torch.argmax(logits, dim=-1)\n",
        "\n",
        "  #print(predictions.item())\n",
        "  print(f'this symptoms could be {label_encoder.inverse_transform([predictions.item()])}')\n",
        "\n"
      ],
      "metadata": {
        "id": "uz7gt4hOzFkR"
      },
      "execution_count": null,
      "outputs": []
    },
    {
      "cell_type": "code",
      "source": [
        "text='My nose is stuffy and I sneeze all the time and my eyes are red.'\n",
        "make_diagnose(text)"
      ],
      "metadata": {
        "colab": {
          "base_uri": "https://localhost:8080/"
        },
        "id": "WuAhpPV630Bj",
        "outputId": "2f3ee34d-ed96-42f3-9ac7-53f253d1155b"
      },
      "execution_count": null,
      "outputs": [
        {
          "output_type": "stream",
          "name": "stdout",
          "text": [
            "this symptoms could be ['allergy']\n"
          ]
        }
      ]
    },
    {
      "cell_type": "code",
      "source": [
        "text='For some time now I have noticed that I often feel intense thirst and dry mouth, even after drinking plenty of water. Recently, I have also noticed that my skin is more susceptible to infections and my wounds are healing slower than usual.'\n",
        "make_diagnose(text)"
      ],
      "metadata": {
        "colab": {
          "base_uri": "https://localhost:8080/"
        },
        "id": "TZyQrQLc4KJB",
        "outputId": "895f9e8c-74af-4764-af81-337b156d2966"
      },
      "execution_count": null,
      "outputs": [
        {
          "output_type": "stream",
          "name": "stdout",
          "text": [
            "this symptoms could be ['diabetes']\n"
          ]
        }
      ]
    },
    {
      "cell_type": "code",
      "source": [
        "text='I have a very high fever and all my muscles and spine hurt'\n",
        "make_diagnose(text)"
      ],
      "metadata": {
        "colab": {
          "base_uri": "https://localhost:8080/"
        },
        "id": "6ryotBA25qu6",
        "outputId": "b2b63bc8-c405-4625-fd2a-4b34b39897ad"
      },
      "execution_count": null,
      "outputs": [
        {
          "output_type": "stream",
          "name": "stdout",
          "text": [
            "this symptoms could be ['dengue']\n"
          ]
        }
      ]
    },
    {
      "cell_type": "markdown",
      "source": [
        "# Bert feature extraction"
      ],
      "metadata": {
        "id": "yhJCrr90SG7G"
      }
    },
    {
      "cell_type": "markdown",
      "source": [
        "\n",
        "Re-tokenization, without return_tensors='pt': instead of pytorch the tensor returns a list and causes an error when checking the size in 'input_shape = input_ids.size()'"
      ],
      "metadata": {
        "id": "YqySmvOMNKuU"
      }
    },
    {
      "cell_type": "code",
      "source": [
        "#tokenizer(dataset['train']['text'])"
      ],
      "metadata": {
        "id": "X7-gx5h-JKFx"
      },
      "execution_count": null,
      "outputs": []
    },
    {
      "cell_type": "code",
      "source": [
        "token_train=tokenizer(dataset['train']['text'], padding=True, truncation=True, return_tensors='pt')\n",
        "token_test=tokenizer(dataset['test']['text'], padding=True, truncation=True, return_tensors='pt')"
      ],
      "metadata": {
        "colab": {
          "base_uri": "https://localhost:8080/"
        },
        "id": "W4RDl8ufNBR3",
        "outputId": "249090b2-8f59-4308-b5f2-70341c81a3ec"
      },
      "execution_count": null,
      "outputs": [
        {
          "output_type": "stream",
          "name": "stderr",
          "text": [
            "Asking to truncate to max_length but no maximum length is provided and the model has no predefined maximum length. Default to no truncation.\n"
          ]
        }
      ]
    },
    {
      "cell_type": "markdown",
      "source": [
        "\n",
        "reloading the model from hiden_states I also checked that logits can be used without reloading"
      ],
      "metadata": {
        "id": "Dk2JWB_KUiTa"
      }
    },
    {
      "cell_type": "code",
      "source": [
        "model = AutoModelForSequenceClassification.from_pretrained(model_checkpoint, num_labels=num_labels, output_hidden_states=True)"
      ],
      "metadata": {
        "colab": {
          "base_uri": "https://localhost:8080/"
        },
        "id": "kByZEqtvP1Bj",
        "outputId": "b2de0e4a-c1a9-4d22-b378-eb51d2273c5f"
      },
      "execution_count": null,
      "outputs": [
        {
          "output_type": "stream",
          "name": "stderr",
          "text": [
            "/usr/local/lib/python3.10/dist-packages/huggingface_hub/file_download.py:1132: FutureWarning: `resume_download` is deprecated and will be removed in version 1.0.0. Downloads always resume when possible. If you want to force a new download, use `force_download=True`.\n",
            "  warnings.warn(\n",
            "Some weights of DistilBertForSequenceClassification were not initialized from the model checkpoint at distilbert-base-uncased and are newly initialized: ['classifier.bias', 'classifier.weight', 'pre_classifier.bias', 'pre_classifier.weight']\n",
            "You should probably TRAIN this model on a down-stream task to be able to use it for predictions and inference.\n"
          ]
        }
      ]
    },
    {
      "cell_type": "code",
      "source": [
        "with torch.no_grad():\n",
        "    hidden_train = model(**token_train)\n",
        "    hidden_test = model(**token_test)\n"
      ],
      "metadata": {
        "id": "lgygr04LXFBH"
      },
      "execution_count": null,
      "outputs": []
    },
    {
      "cell_type": "code",
      "source": [
        "hidden_train"
      ],
      "metadata": {
        "colab": {
          "base_uri": "https://localhost:8080/"
        },
        "id": "MkjBMPHyN9rS",
        "outputId": "233c7f74-fd54-4e50-a794-495f570a9021"
      },
      "execution_count": null,
      "outputs": [
        {
          "output_type": "execute_result",
          "data": {
            "text/plain": [
              "SequenceClassifierOutput(loss=None, logits=tensor([[ 0.0593, -0.0421, -0.0338,  ..., -0.0401,  0.0102, -0.0344],\n",
              "        [ 0.0624, -0.0344, -0.0348,  ..., -0.0303,  0.0392, -0.0325],\n",
              "        [ 0.0271, -0.0956, -0.0407,  ..., -0.0387, -0.0073, -0.0235],\n",
              "        ...,\n",
              "        [ 0.0760, -0.0327, -0.0165,  ..., -0.0421,  0.0202, -0.0342],\n",
              "        [ 0.0529, -0.0959, -0.0207,  ..., -0.0166,  0.0086, -0.0414],\n",
              "        [ 0.0152, -0.0442, -0.0460,  ..., -0.0203,  0.0252, -0.0243]]), hidden_states=(tensor([[[ 0.3469, -0.1626, -0.2333,  ...,  0.1487,  0.0865,  0.1422],\n",
              "         [ 0.2054,  0.5164, -0.5313,  ...,  0.6677,  1.0129,  0.4577],\n",
              "         [-0.7778, -0.0712,  0.2431,  ...,  0.6476,  0.6368, -1.7201],\n",
              "         ...,\n",
              "         [ 0.1675, -0.6242,  0.2746,  ...,  0.1283, -0.6598,  0.1094],\n",
              "         [ 0.3577, -0.6515,  0.0806,  ...,  0.1510, -0.6225,  0.1292],\n",
              "         [ 0.3485, -0.7078,  0.1944,  ..., -0.0444, -0.2944,  0.1475]],\n",
              "\n",
              "        [[ 0.3469, -0.1626, -0.2333,  ...,  0.1487,  0.0865,  0.1422],\n",
              "         [ 0.2054,  0.5164, -0.5313,  ...,  0.6677,  1.0129,  0.4577],\n",
              "         [-0.2884,  0.4853,  0.4123,  ...,  0.6247, -1.3319, -0.4421],\n",
              "         ...,\n",
              "         [ 0.1675, -0.6242,  0.2746,  ...,  0.1283, -0.6598,  0.1094],\n",
              "         [ 0.3577, -0.6515,  0.0806,  ...,  0.1510, -0.6225,  0.1292],\n",
              "         [ 0.3485, -0.7078,  0.1944,  ..., -0.0444, -0.2944,  0.1475]],\n",
              "\n",
              "        [[ 0.3469, -0.1626, -0.2333,  ...,  0.1487,  0.0865,  0.1422],\n",
              "         [ 0.2054,  0.5164, -0.5313,  ...,  0.6677,  1.0129,  0.4577],\n",
              "         [-0.2884,  0.4853,  0.4123,  ...,  0.6247, -1.3319, -0.4421],\n",
              "         ...,\n",
              "         [ 0.1675, -0.6242,  0.2746,  ...,  0.1283, -0.6598,  0.1094],\n",
              "         [ 0.3577, -0.6515,  0.0806,  ...,  0.1510, -0.6225,  0.1292],\n",
              "         [ 0.3485, -0.7078,  0.1944,  ..., -0.0444, -0.2944,  0.1475]],\n",
              "\n",
              "        ...,\n",
              "\n",
              "        [[ 0.3469, -0.1626, -0.2333,  ...,  0.1487,  0.0865,  0.1422],\n",
              "         [ 0.2054,  0.5164, -0.5313,  ...,  0.6677,  1.0129,  0.4577],\n",
              "         [-0.2884,  0.4853,  0.4123,  ...,  0.6247, -1.3319, -0.4421],\n",
              "         ...,\n",
              "         [ 0.1675, -0.6242,  0.2746,  ...,  0.1283, -0.6598,  0.1094],\n",
              "         [ 0.3577, -0.6515,  0.0806,  ...,  0.1510, -0.6225,  0.1292],\n",
              "         [ 0.3485, -0.7078,  0.1944,  ..., -0.0444, -0.2944,  0.1475]],\n",
              "\n",
              "        [[ 0.3469, -0.1626, -0.2333,  ...,  0.1487,  0.0865,  0.1422],\n",
              "         [ 0.2054,  0.5164, -0.5313,  ...,  0.6677,  1.0129,  0.4577],\n",
              "         [-0.2884,  0.4853,  0.4123,  ...,  0.6247, -1.3319, -0.4421],\n",
              "         ...,\n",
              "         [ 0.1675, -0.6242,  0.2746,  ...,  0.1283, -0.6598,  0.1094],\n",
              "         [ 0.3577, -0.6515,  0.0806,  ...,  0.1510, -0.6225,  0.1292],\n",
              "         [ 0.3485, -0.7078,  0.1944,  ..., -0.0444, -0.2944,  0.1475]],\n",
              "\n",
              "        [[ 0.3469, -0.1626, -0.2333,  ...,  0.1487,  0.0865,  0.1422],\n",
              "         [ 0.2054,  0.5164, -0.5313,  ...,  0.6677,  1.0129,  0.4577],\n",
              "         [-0.7778, -0.0712,  0.2431,  ...,  0.6476,  0.6368, -1.7201],\n",
              "         ...,\n",
              "         [ 0.1675, -0.6242,  0.2746,  ...,  0.1283, -0.6598,  0.1094],\n",
              "         [ 0.3577, -0.6515,  0.0806,  ...,  0.1510, -0.6225,  0.1292],\n",
              "         [ 0.3485, -0.7078,  0.1944,  ..., -0.0444, -0.2944,  0.1475]]]), tensor([[[-1.7827e-01,  3.8519e-02, -1.7407e-01,  ...,  2.0530e-01,\n",
              "           1.2073e-02,  4.3283e-02],\n",
              "         [ 4.2710e-01,  5.1392e-01, -6.5130e-01,  ...,  3.6680e-01,\n",
              "           1.1708e+00,  2.2199e-01],\n",
              "         [-6.6241e-01, -2.0616e-01,  1.5586e-01,  ..., -1.2621e-01,\n",
              "           5.5687e-01, -1.3960e+00],\n",
              "         ...,\n",
              "         [ 1.1749e-01, -2.9009e-02,  3.6440e-01,  ...,  2.4316e-01,\n",
              "          -4.2199e-01, -6.6409e-02],\n",
              "         [ 2.4994e-01, -1.3930e-01,  1.9193e-01,  ...,  3.2294e-01,\n",
              "          -3.9203e-01, -4.0923e-02],\n",
              "         [ 2.6574e-01, -1.4574e-01,  1.9973e-01,  ...,  2.1476e-01,\n",
              "          -2.4281e-01, -3.5687e-02]],\n",
              "\n",
              "        [[-1.8494e-01,  6.3252e-03, -1.1682e-01,  ...,  2.1278e-01,\n",
              "           3.6875e-02,  4.7745e-02],\n",
              "         [ 5.0278e-01,  1.3036e-01, -3.0152e-01,  ...,  5.4918e-01,\n",
              "           1.0761e+00,  3.5660e-01],\n",
              "         [-4.9173e-01,  2.4303e-01,  2.2346e-01,  ...,  1.6704e-01,\n",
              "          -9.6794e-01, -3.8634e-01],\n",
              "         ...,\n",
              "         [ 1.5492e-01, -2.3878e-01,  3.2384e-01,  ...,  3.6208e-01,\n",
              "          -2.6721e-01,  4.3167e-02],\n",
              "         [ 3.5879e-01, -2.8597e-01,  1.7334e-01,  ...,  4.3433e-01,\n",
              "          -2.1825e-01,  5.1425e-02],\n",
              "         [ 3.9267e-01, -2.4811e-01,  2.0127e-01,  ...,  3.6699e-01,\n",
              "          -7.7161e-02,  6.4625e-02]],\n",
              "\n",
              "        [[-1.4927e-01,  5.3524e-02, -1.6441e-01,  ...,  2.2041e-01,\n",
              "          -1.7882e-02,  9.2603e-04],\n",
              "         [ 5.5933e-01,  5.6000e-02, -4.5012e-01,  ...,  3.5023e-01,\n",
              "           9.0350e-01,  2.4804e-01],\n",
              "         [-2.7949e-01,  1.1312e-01, -6.7869e-02,  ...,  5.5226e-01,\n",
              "          -9.0410e-01, -2.0415e-01],\n",
              "         ...,\n",
              "         [ 1.6917e-01, -9.6547e-02,  4.0066e-01,  ...,  3.9741e-01,\n",
              "          -3.4713e-01, -9.6753e-02],\n",
              "         [ 2.9643e-01, -1.2718e-01,  2.7099e-01,  ...,  4.2258e-01,\n",
              "          -3.4381e-01, -9.4921e-02],\n",
              "         [ 3.0086e-01, -1.1424e-01,  2.7809e-01,  ...,  3.0533e-01,\n",
              "          -1.9878e-01, -1.1557e-01]],\n",
              "\n",
              "        ...,\n",
              "\n",
              "        [[-1.4997e-01,  9.8979e-03, -1.6250e-01,  ...,  1.9287e-01,\n",
              "           2.7381e-02,  6.6244e-02],\n",
              "         [ 4.5718e-01,  1.9721e-02, -2.9714e-01,  ...,  4.8075e-01,\n",
              "           1.0315e+00,  3.4475e-01],\n",
              "         [-5.2934e-01,  2.1742e-01,  3.2527e-01,  ...,  1.5023e-01,\n",
              "          -9.7245e-01, -3.0683e-01],\n",
              "         ...,\n",
              "         [ 2.0847e-01, -1.3804e-01,  3.7138e-01,  ...,  3.5602e-01,\n",
              "          -3.3776e-01,  1.5153e-02],\n",
              "         [ 3.2939e-01, -2.0701e-01,  2.1888e-01,  ...,  3.2674e-01,\n",
              "          -3.2047e-01, -3.3072e-02],\n",
              "         [ 3.6050e-01, -2.2184e-01,  2.2669e-01,  ...,  2.5732e-01,\n",
              "          -1.3720e-01, -1.1174e-02]],\n",
              "\n",
              "        [[-1.3993e-01,  3.4633e-02, -1.9373e-01,  ...,  1.9553e-01,\n",
              "           2.9535e-02,  2.1226e-02],\n",
              "         [ 4.9214e-01,  1.8437e-01, -5.3787e-01,  ...,  4.7548e-01,\n",
              "           9.8578e-01,  1.3448e-01],\n",
              "         [-5.8077e-01,  3.5329e-01,  2.4765e-02,  ...,  1.6296e-01,\n",
              "          -1.1098e+00, -2.8816e-01],\n",
              "         ...,\n",
              "         [ 2.1943e-01, -4.1469e-02,  2.8247e-01,  ...,  3.1809e-01,\n",
              "          -3.9671e-01, -2.4603e-01],\n",
              "         [ 3.4511e-01, -8.7584e-02,  1.7562e-01,  ...,  3.0005e-01,\n",
              "          -3.7375e-01, -2.3669e-01],\n",
              "         [ 3.3573e-01, -5.9669e-02,  2.0843e-01,  ...,  2.1167e-01,\n",
              "          -2.1231e-01, -2.2808e-01]],\n",
              "\n",
              "        [[-1.8649e-01,  1.7941e-02, -1.4724e-01,  ...,  2.3159e-01,\n",
              "           3.2527e-02,  4.3717e-02],\n",
              "         [ 5.5593e-01,  6.0906e-01, -5.8134e-01,  ...,  3.4730e-01,\n",
              "           1.0096e+00,  1.3291e-01],\n",
              "         [-6.7912e-01, -1.0521e-01,  1.1746e-01,  ..., -3.0912e-02,\n",
              "           4.7384e-01, -1.3875e+00],\n",
              "         ...,\n",
              "         [ 1.9284e-01, -8.1541e-02,  4.7436e-01,  ...,  2.6723e-01,\n",
              "          -4.8336e-01, -2.0835e-01],\n",
              "         [ 3.2138e-01, -1.5744e-01,  3.2194e-01,  ...,  2.8740e-01,\n",
              "          -4.5070e-01, -1.6748e-01],\n",
              "         [ 3.4631e-01, -1.3464e-01,  3.3829e-01,  ...,  1.6620e-01,\n",
              "          -2.7346e-01, -1.3711e-01]]]), tensor([[[-0.1817, -0.2938, -0.0877,  ..., -0.1812,  0.3509,  0.1154],\n",
              "         [ 0.6372,  0.2953, -0.3449,  ...,  0.2139,  0.9926,  0.1784],\n",
              "         [-0.0378, -0.5229,  0.6784,  ..., -0.3941,  0.8233, -1.4015],\n",
              "         ...,\n",
              "         [ 0.2920, -0.0898, -0.1071,  ..., -0.3235, -0.1265,  0.1364],\n",
              "         [ 0.5589, -0.2535, -0.2615,  ..., -0.2126, -0.3688,  0.1419],\n",
              "         [ 0.4303,  0.1158, -0.0690,  ...,  0.1251, -0.2014, -0.0930]],\n",
              "\n",
              "        [[-0.1162, -0.3709, -0.0203,  ..., -0.1381,  0.4386,  0.1755],\n",
              "         [ 0.7281,  0.1766, -0.0971,  ...,  0.4024,  0.8543,  0.1245],\n",
              "         [-0.1021,  0.6594,  0.2333,  ...,  0.4729, -1.2338,  0.2188],\n",
              "         ...,\n",
              "         [ 0.2845, -0.4152,  0.4303,  ...,  0.9771, -0.1545,  0.0287],\n",
              "         [ 0.9794, -0.3139,  0.0767,  ...,  0.4203,  0.0717, -0.4025],\n",
              "         [ 1.3822,  0.0063, -0.3866,  ...,  0.0992,  0.1851, -0.1999]],\n",
              "\n",
              "        [[-0.1045, -0.2835,  0.0094,  ..., -0.1354,  0.3135,  0.1425],\n",
              "         [ 0.7900,  0.0903, -0.1539,  ...,  0.3964,  0.6701,  0.0223],\n",
              "         [ 0.6121, -0.0475, -0.2350,  ...,  0.4520, -0.8329,  0.1847],\n",
              "         ...,\n",
              "         [ 1.0432,  0.2906,  0.1325,  ..., -0.0792, -0.0977, -0.2155],\n",
              "         [ 0.3906,  0.6369, -0.2459,  ..., -0.1675, -0.4294, -0.2839],\n",
              "         [ 0.6138,  0.2165, -0.1822,  ..., -0.5407, -0.1334,  0.0249]],\n",
              "\n",
              "        ...,\n",
              "\n",
              "        [[-0.0842, -0.3503, -0.0071,  ..., -0.1635,  0.4408,  0.1759],\n",
              "         [ 0.7100,  0.1181, -0.0923,  ...,  0.3655,  0.8304,  0.1586],\n",
              "         [-0.1193,  0.5719,  0.3707,  ...,  0.4385, -1.3160,  0.2578],\n",
              "         ...,\n",
              "         [ 0.2944,  0.0739,  0.0636,  ..., -0.0962, -0.4483,  0.0294],\n",
              "         [ 0.8554,  0.6019,  0.1015,  ..., -0.0665,  0.3247, -0.3283],\n",
              "         [ 0.7596,  0.2713, -0.0020,  ..., -0.3669,  0.4910, -0.2768]],\n",
              "\n",
              "        [[-0.0724, -0.2396, -0.0087,  ..., -0.2117,  0.3643,  0.1412],\n",
              "         [ 0.8589,  0.1023, -0.4529,  ...,  0.4560,  0.7319,  0.1207],\n",
              "         [-0.1305,  0.7855,  0.0838,  ...,  0.4225, -1.1580,  0.1121],\n",
              "         ...,\n",
              "         [ 0.8625,  0.3541, -0.0369,  ...,  0.0058, -0.1148, -0.3414],\n",
              "         [ 0.2730,  0.6593, -0.3398,  ..., -0.1641, -0.4259, -0.3863],\n",
              "         [ 0.6081,  0.1987, -0.1541,  ..., -0.3455,  0.0380, -0.2908]],\n",
              "\n",
              "        [[-0.1320, -0.3182, -0.0060,  ..., -0.1178,  0.3113,  0.1658],\n",
              "         [ 0.8603,  0.2975, -0.4673,  ...,  0.2717,  0.7868,  0.3684],\n",
              "         [-0.0312, -0.4216,  0.6560,  ..., -0.2691,  0.6932, -1.3162],\n",
              "         ...,\n",
              "         [ 0.3152,  0.0275,  0.3626,  ..., -0.1707,  0.0246,  0.1459],\n",
              "         [ 0.1970, -0.2601,  0.1802,  ...,  0.1263, -0.2468,  0.0760],\n",
              "         [ 0.6337, -0.1404, -0.0718,  ..., -0.3178,  0.0809,  0.1155]]]), tensor([[[ 0.1638, -0.4433, -0.2197,  ..., -0.2278,  0.4153,  0.1848],\n",
              "         [ 0.8267,  0.3635, -0.4865,  ...,  0.2427,  0.9007,  0.1468],\n",
              "         [ 0.1775, -0.2955,  0.2451,  ..., -0.7228,  0.1711, -1.2144],\n",
              "         ...,\n",
              "         [ 0.6882,  0.3213, -0.2268,  ..., -0.4998,  0.0453,  0.2668],\n",
              "         [ 0.9029, -0.0086, -0.2981,  ..., -0.3809, -0.1948,  0.1790],\n",
              "         [ 0.4183,  0.5467, -0.1537,  ..., -0.1225, -0.1621, -0.3980]],\n",
              "\n",
              "        [[ 0.1012, -0.5037, -0.1886,  ..., -0.0398,  0.4903,  0.4096],\n",
              "         [ 0.9565,  0.2082, -0.4079,  ...,  0.5173,  0.9485,  0.1294],\n",
              "         [ 0.4397,  0.6991, -0.2311,  ..., -0.0492, -0.6699,  0.2750],\n",
              "         ...,\n",
              "         [ 0.7539, -0.2591,  0.5649,  ...,  0.9885, -0.7082, -0.0178],\n",
              "         [ 0.8468,  0.0730, -0.5639,  ..., -0.0250, -0.0238, -0.4053],\n",
              "         [ 1.3272,  0.2763, -0.1439,  ...,  0.1554,  0.0734, -0.1967]],\n",
              "\n",
              "        [[ 0.1807, -0.4349, -0.2229,  ..., -0.2128,  0.2164,  0.2378],\n",
              "         [ 0.8808,  0.2639, -0.2941,  ...,  0.3128,  0.6567,  0.0985],\n",
              "         [ 1.0447,  0.2815, -0.1046,  ..., -0.0632, -0.4242,  0.4197],\n",
              "         ...,\n",
              "         [ 1.2129,  0.5830,  0.1690,  ..., -0.3696, -0.0575, -0.1900],\n",
              "         [ 0.4946,  0.7532, -0.0889,  ..., -0.3192, -0.1014, -0.2904],\n",
              "         [ 0.7862,  0.7004,  0.0324,  ..., -0.5900,  0.1115,  0.2770]],\n",
              "\n",
              "        ...,\n",
              "\n",
              "        [[ 0.2266, -0.5226, -0.0320,  ..., -0.1084,  0.3817,  0.3673],\n",
              "         [ 0.9573,  0.1305, -0.1947,  ...,  0.4793,  0.8483,  0.1062],\n",
              "         [ 0.3561,  0.6264, -0.0033,  ..., -0.0412, -0.6996,  0.2733],\n",
              "         ...,\n",
              "         [ 0.4792,  0.3782,  0.2058,  ...,  0.2248, -0.4126, -0.1643],\n",
              "         [ 0.6692,  1.3694,  0.0702,  ..., -0.2477,  0.4013, -0.4034],\n",
              "         [ 0.8357,  0.7641,  0.3411,  ..., -0.1344,  0.2775, -0.1966]],\n",
              "\n",
              "        [[ 0.1775, -0.3859, -0.1796,  ..., -0.3091,  0.1847,  0.3234],\n",
              "         [ 0.8678,  0.2750, -0.5297,  ...,  0.3689,  0.6080,  0.3509],\n",
              "         [ 0.2768,  0.7530, -0.4104,  ..., -0.1569, -0.6354,  0.3123],\n",
              "         ...,\n",
              "         [ 0.7348,  0.6321, -0.0060,  ..., -0.1031, -0.0373, -0.3082],\n",
              "         [ 0.3015,  0.7755, -0.3327,  ..., -0.2661, -0.2724, -0.2559],\n",
              "         [ 0.7312,  0.6162,  0.0615,  ..., -0.3780, -0.1260, -0.0473]],\n",
              "\n",
              "        [[ 0.1196, -0.4847, -0.2850,  ..., -0.1078,  0.4028,  0.3300],\n",
              "         [ 0.9910,  0.1822, -0.5154,  ...,  0.3179,  0.8482,  0.4284],\n",
              "         [ 0.1705, -0.3923,  0.3374,  ..., -0.6996,  0.0777, -1.1300],\n",
              "         ...,\n",
              "         [ 0.5980,  0.6660,  0.3175,  ..., -0.3427,  0.3638,  0.3956],\n",
              "         [ 0.2220,  0.0992,  0.2615,  ..., -0.2068, -0.1984,  0.1911],\n",
              "         [ 0.7676,  0.0459,  0.0040,  ..., -0.4730, -0.0610,  0.2501]]]), tensor([[[ 0.1157, -0.4651, -0.4597,  ..., -0.3112,  0.1374,  0.1866],\n",
              "         [ 0.5771,  0.2510, -0.4983,  ..., -0.1689,  0.6712,  0.1546],\n",
              "         [ 0.1368,  0.0237, -0.3368,  ..., -0.7967,  0.5659, -1.1604],\n",
              "         ...,\n",
              "         [ 1.0334,  0.6932, -0.2032,  ..., -0.1517,  0.2218, -0.2127],\n",
              "         [ 1.1442,  0.3475, -0.2240,  ..., -0.0200, -0.2078, -0.3447],\n",
              "         [ 0.3487,  0.7180, -0.2134,  ...,  0.2817, -0.4920, -0.6984]],\n",
              "\n",
              "        [[ 0.0950, -0.5741, -0.4268,  ..., -0.0788,  0.2064,  0.3771],\n",
              "         [ 0.7559,  0.1264, -0.5003,  ...,  0.2558,  0.5644,  0.2512],\n",
              "         [-0.1411,  0.9074, -0.4370,  ...,  0.1364, -0.4601,  0.3533],\n",
              "         ...,\n",
              "         [ 0.2716,  0.1452,  1.2482,  ...,  1.0839, -1.1527, -0.0942],\n",
              "         [ 0.3869,  0.0305, -0.7729,  ...,  0.0239, -0.1467, -0.1002],\n",
              "         [ 1.2386,  0.5388, -0.0896,  ..., -0.1299,  0.2905,  0.1779]],\n",
              "\n",
              "        [[ 0.1912, -0.4556, -0.3882,  ..., -0.2881,  0.1962,  0.2000],\n",
              "         [ 0.7971,  0.2065, -0.2485,  ...,  0.1949,  0.6700,  0.1846],\n",
              "         [ 1.0973,  0.3894, -0.4655,  ..., -0.4575,  0.0786,  0.0117],\n",
              "         ...,\n",
              "         [ 0.8007,  0.6387, -0.0337,  ..., -0.5319, -0.3445, -0.6406],\n",
              "         [ 0.5581,  1.0733, -0.2578,  ..., -0.6977, -0.1691, -0.4742],\n",
              "         [ 0.8614,  1.0633,  0.1213,  ..., -0.5594,  0.2791, -0.0744]],\n",
              "\n",
              "        ...,\n",
              "\n",
              "        [[ 0.1437, -0.5740, -0.3009,  ..., -0.0533,  0.0865,  0.3711],\n",
              "         [ 0.7316,  0.1073, -0.3743,  ...,  0.1913,  0.4917,  0.2123],\n",
              "         [-0.2634,  0.8573, -0.3486,  ...,  0.1218, -0.4402,  0.2812],\n",
              "         ...,\n",
              "         [ 0.2786,  0.7461,  0.2901,  ..., -0.1860, -0.4863, -0.2524],\n",
              "         [ 0.5340,  1.4381, -0.1372,  ..., -0.1789,  0.2956, -0.4690],\n",
              "         [ 0.9283,  1.0051,  0.1936,  ..., -0.1597,  0.3539, -0.2483]],\n",
              "\n",
              "        [[ 0.1183, -0.5379, -0.4486,  ..., -0.2883, -0.0707,  0.2704],\n",
              "         [ 0.5263,  0.1896, -0.6188,  ...,  0.0221,  0.3748,  0.3026],\n",
              "         [-0.2176,  0.7903, -0.5134,  ..., -0.4352, -0.4705,  0.1860],\n",
              "         ...,\n",
              "         [ 0.3618,  0.7550,  0.0227,  ..., -0.2782, -0.5083, -0.6827],\n",
              "         [ 0.2644,  0.9602, -0.5226,  ..., -0.6038, -0.5644, -0.1558],\n",
              "         [ 0.9124,  0.6800,  0.2045,  ..., -0.5693,  0.0645,  0.0348]],\n",
              "\n",
              "        [[ 0.1715, -0.5457, -0.4279,  ..., -0.2183,  0.1915,  0.3520],\n",
              "         [ 0.6955,  0.1763, -0.4383,  ...,  0.1693,  0.6786,  0.2928],\n",
              "         [ 0.2820,  0.0274, -0.1190,  ..., -0.8629,  0.2342, -0.9974],\n",
              "         ...,\n",
              "         [ 0.8634,  0.6615,  0.3677,  ..., -0.1847,  1.0627,  0.4531],\n",
              "         [ 0.6548,  0.1814,  0.1378,  ..., -0.4880,  0.0511,  0.3337],\n",
              "         [ 1.2090,  0.2244, -0.1320,  ..., -0.3630,  0.2644,  0.3599]]]), tensor([[[ 0.2143, -0.6468, -0.3565,  ..., -0.0713,  0.1695,  0.1841],\n",
              "         [ 0.5958, -0.1790, -0.5856,  ..., -0.2813,  0.7238,  0.1166],\n",
              "         [ 0.1165, -0.1260,  0.1068,  ..., -0.1982,  0.1358, -0.2838],\n",
              "         ...,\n",
              "         [ 0.6279,  0.5531, -0.4040,  ..., -0.1350, -0.1088, -0.2453],\n",
              "         [ 0.5857,  0.3464, -0.4338,  ..., -0.1566, -0.4569, -0.4364],\n",
              "         [-0.2261,  0.6624, -0.4063,  ..., -0.0794, -0.9968, -0.8951]],\n",
              "\n",
              "        [[ 0.1283, -0.5676, -0.2570,  ...,  0.0802,  0.2453,  0.5011],\n",
              "         [ 0.7267, -0.2868, -0.5730,  ...,  0.0039,  1.0193,  0.2232],\n",
              "         [-0.0027,  0.4865, -0.2951,  ...,  0.1407, -0.1264,  0.5561],\n",
              "         ...,\n",
              "         [ 0.1122,  0.0709,  1.0502,  ...,  0.7710, -1.3142, -0.0830],\n",
              "         [ 0.3215,  0.0798, -0.9120,  ..., -0.0608, -0.4060,  0.2971],\n",
              "         [ 0.7672,  0.1212, -0.3491,  ...,  0.0747,  0.3585,  0.5147]],\n",
              "\n",
              "        [[ 0.1786, -0.5561, -0.1211,  ..., -0.0379,  0.3452,  0.2483],\n",
              "         [ 0.8800, -0.1227, -0.2178,  ...,  0.0146,  0.7416,  0.0311],\n",
              "         [ 1.0159,  0.1312, -0.2076,  ..., -0.4492,  0.1515,  0.0550],\n",
              "         ...,\n",
              "         [ 0.4861,  0.3636,  0.2174,  ..., -0.4407, -0.3481, -0.6675],\n",
              "         [ 0.3002,  0.9856, -0.4929,  ..., -0.6151, -0.2352, -0.5784],\n",
              "         [ 0.5497,  0.7047,  0.0063,  ..., -0.6228, -0.1521, -0.3687]],\n",
              "\n",
              "        ...,\n",
              "\n",
              "        [[ 0.2741, -0.5530, -0.1537,  ..., -0.0474,  0.1569,  0.4352],\n",
              "         [ 0.7939, -0.3284, -0.4288,  ..., -0.0227,  0.9323,  0.1111],\n",
              "         [-0.0929,  0.4997, -0.1640,  ...,  0.1641, -0.2035,  0.4340],\n",
              "         ...,\n",
              "         [ 0.2218,  0.7341,  0.0860,  ..., -0.4324, -0.9281,  0.2921],\n",
              "         [ 0.2927,  1.1846, -0.3119,  ..., -0.1557, -0.3304,  0.2350],\n",
              "         [ 0.8129,  0.6660,  0.2015,  ...,  0.0774, -0.1489,  0.2751]],\n",
              "\n",
              "        [[ 0.1382, -0.6424, -0.2383,  ..., -0.1155,  0.2148,  0.3599],\n",
              "         [ 0.6716, -0.2057, -0.5218,  ..., -0.1154,  0.7059,  0.1902],\n",
              "         [-0.1314,  0.6696, -0.1566,  ..., -0.0991, -0.3255,  0.1582],\n",
              "         ...,\n",
              "         [-0.1560,  0.7867,  0.0424,  ..., -0.4006, -0.4719, -0.6629],\n",
              "         [ 0.1504,  0.9465, -0.9092,  ..., -0.5659, -0.4797,  0.0410],\n",
              "         [ 0.8351,  0.3725, -0.1286,  ..., -0.3724, -0.1406,  0.1046]],\n",
              "\n",
              "        [[ 0.3502, -0.6488, -0.2993,  ...,  0.0948,  0.2665,  0.4904],\n",
              "         [ 0.9348, -0.2679, -0.5705,  ..., -0.1210,  0.9761,  0.2597],\n",
              "         [ 0.0569, -0.0360,  0.0653,  ..., -0.0739,  0.0283, -0.1102],\n",
              "         ...,\n",
              "         [ 0.9304,  0.1262, -0.1139,  ...,  0.0249,  0.7408,  0.2004],\n",
              "         [ 1.0758,  0.2655,  0.1639,  ..., -0.2878,  0.2166,  0.2369],\n",
              "         [ 1.0690,  0.0432, -0.5877,  ..., -0.2340,  0.0040,  0.6001]]]), tensor([[[ 0.0841, -0.0198, -0.2021,  ...,  0.0499,  0.3434,  0.1690],\n",
              "         [ 0.3107,  0.0516, -0.2485,  ...,  0.0501,  0.7344,  0.0220],\n",
              "         [ 0.7648,  0.2803,  0.1111,  ..., -0.2885, -0.3476, -0.8294],\n",
              "         ...,\n",
              "         [ 0.3163,  0.2358, -0.0528,  ...,  0.0368,  0.2251, -0.1330],\n",
              "         [ 0.2895,  0.1890, -0.1282,  ...,  0.0203,  0.1230, -0.2716],\n",
              "         [-0.1065,  0.2706, -0.2294,  ...,  0.0419, -0.1235, -0.5373]],\n",
              "\n",
              "        [[-0.0142,  0.0060,  0.0803,  ...,  0.0602,  0.3119,  0.4519],\n",
              "         [ 0.3897,  0.0169, -0.0789,  ...,  0.2594,  0.9850,  0.1913],\n",
              "         [-0.0264,  0.5884,  0.2746,  ..., -0.1283,  0.0387,  0.0960],\n",
              "         ...,\n",
              "         [ 0.1324,  0.0891,  0.3208,  ...,  0.4299, -0.5840,  0.0954],\n",
              "         [ 0.0677,  0.2187, -0.3154,  ...,  0.0300, -0.0866,  0.1603],\n",
              "         [ 0.3268,  0.1626,  0.1044,  ...,  0.1312,  0.2316,  0.2961]],\n",
              "\n",
              "        [[ 0.2047,  0.1001, -0.1888,  ...,  0.0061,  0.4276,  0.3608],\n",
              "         [ 0.5281,  0.2096, -0.1156,  ...,  0.1035,  0.6171,  0.1116],\n",
              "         [ 0.6901,  0.3335, -0.1232,  ..., -0.2542,  0.3661, -0.0415],\n",
              "         ...,\n",
              "         [ 0.3100,  0.3825,  0.1732,  ..., -0.1171, -0.1283, -0.0767],\n",
              "         [ 0.2473,  0.4437, -0.1285,  ..., -0.0862, -0.0653, -0.1492],\n",
              "         [ 0.3218,  0.4585,  0.0378,  ...,  0.0230, -0.1121,  0.0469]],\n",
              "\n",
              "        ...,\n",
              "\n",
              "        [[ 0.0983,  0.1222,  0.0715,  ...,  0.0692,  0.3712,  0.3590],\n",
              "         [ 0.4070,  0.1224, -0.0465,  ...,  0.1744,  0.8747,  0.0604],\n",
              "         [-0.0944,  0.6590,  0.2487,  ..., -0.1371,  0.0115,  0.0442],\n",
              "         ...,\n",
              "         [ 0.0286,  0.4530,  0.2164,  ..., -0.0319, -0.3118,  0.3434],\n",
              "         [-0.1085,  0.5764,  0.0466,  ...,  0.1263, -0.0387,  0.3924],\n",
              "         [ 0.2493,  0.2719,  0.3283,  ...,  0.1655,  0.0144,  0.2442]],\n",
              "\n",
              "        [[ 0.1630,  0.1376, -0.2280,  ...,  0.0461,  0.3953,  0.3305],\n",
              "         [ 0.4998,  0.1751, -0.3721,  ...,  0.0566,  0.7231,  0.1032],\n",
              "         [ 0.0486,  0.7727, -0.0536,  ..., -0.1493, -0.0710, -0.1563],\n",
              "         ...,\n",
              "         [ 0.0741,  0.5079,  0.0135,  ..., -0.0619, -0.2940, -0.2924],\n",
              "         [ 0.1655,  0.3998, -0.3432,  ..., -0.1096, -0.2194,  0.0433],\n",
              "         [ 0.6311,  0.1890, -0.0545,  ...,  0.0657, -0.0278,  0.2157]],\n",
              "\n",
              "        [[ 0.2438, -0.0936, -0.2388,  ...,  0.1957,  0.3840,  0.3443],\n",
              "         [ 0.5869,  0.0354, -0.2889,  ...,  0.2024,  0.9012,  0.1198],\n",
              "         [ 0.8056,  0.2951, -0.1265,  ..., -0.0010, -0.6053, -0.5998],\n",
              "         ...,\n",
              "         [ 0.4206,  0.1416,  0.0273,  ...,  0.0907,  0.3003,  0.1031],\n",
              "         [ 0.5593,  0.1305,  0.2998,  ..., -0.0746,  0.0393, -0.0059],\n",
              "         [ 0.4882,  0.0166, -0.1496,  ..., -0.0354,  0.1185,  0.2004]]])), attentions=None)"
            ]
          },
          "metadata": {},
          "execution_count": 110
        }
      ]
    },
    {
      "cell_type": "code",
      "source": [
        "hidden_train.keys()"
      ],
      "metadata": {
        "colab": {
          "base_uri": "https://localhost:8080/"
        },
        "id": "rrrwm1qqOowi",
        "outputId": "86a02573-6a11-4a96-b111-8b7dc779d0fc"
      },
      "execution_count": null,
      "outputs": [
        {
          "output_type": "execute_result",
          "data": {
            "text/plain": [
              "odict_keys(['logits', 'hidden_states'])"
            ]
          },
          "metadata": {},
          "execution_count": 111
        }
      ]
    },
    {
      "cell_type": "code",
      "source": [
        "hidden_train['hidden_states']"
      ],
      "metadata": {
        "colab": {
          "base_uri": "https://localhost:8080/"
        },
        "id": "tHmcIzMyS30b",
        "outputId": "65f3458b-8aaf-4f3f-b6d8-4c81651f6c97"
      },
      "execution_count": null,
      "outputs": [
        {
          "output_type": "execute_result",
          "data": {
            "text/plain": [
              "(tensor([[[ 0.3469, -0.1626, -0.2333,  ...,  0.1487,  0.0865,  0.1422],\n",
              "          [ 0.2054,  0.5164, -0.5313,  ...,  0.6677,  1.0129,  0.4577],\n",
              "          [-0.7778, -0.0712,  0.2431,  ...,  0.6476,  0.6368, -1.7201],\n",
              "          ...,\n",
              "          [ 0.1675, -0.6242,  0.2746,  ...,  0.1283, -0.6598,  0.1094],\n",
              "          [ 0.3577, -0.6515,  0.0806,  ...,  0.1510, -0.6225,  0.1292],\n",
              "          [ 0.3485, -0.7078,  0.1944,  ..., -0.0444, -0.2944,  0.1475]],\n",
              " \n",
              "         [[ 0.3469, -0.1626, -0.2333,  ...,  0.1487,  0.0865,  0.1422],\n",
              "          [ 0.2054,  0.5164, -0.5313,  ...,  0.6677,  1.0129,  0.4577],\n",
              "          [-0.2884,  0.4853,  0.4123,  ...,  0.6247, -1.3319, -0.4421],\n",
              "          ...,\n",
              "          [ 0.1675, -0.6242,  0.2746,  ...,  0.1283, -0.6598,  0.1094],\n",
              "          [ 0.3577, -0.6515,  0.0806,  ...,  0.1510, -0.6225,  0.1292],\n",
              "          [ 0.3485, -0.7078,  0.1944,  ..., -0.0444, -0.2944,  0.1475]],\n",
              " \n",
              "         [[ 0.3469, -0.1626, -0.2333,  ...,  0.1487,  0.0865,  0.1422],\n",
              "          [ 0.2054,  0.5164, -0.5313,  ...,  0.6677,  1.0129,  0.4577],\n",
              "          [-0.2884,  0.4853,  0.4123,  ...,  0.6247, -1.3319, -0.4421],\n",
              "          ...,\n",
              "          [ 0.1675, -0.6242,  0.2746,  ...,  0.1283, -0.6598,  0.1094],\n",
              "          [ 0.3577, -0.6515,  0.0806,  ...,  0.1510, -0.6225,  0.1292],\n",
              "          [ 0.3485, -0.7078,  0.1944,  ..., -0.0444, -0.2944,  0.1475]],\n",
              " \n",
              "         ...,\n",
              " \n",
              "         [[ 0.3469, -0.1626, -0.2333,  ...,  0.1487,  0.0865,  0.1422],\n",
              "          [ 0.2054,  0.5164, -0.5313,  ...,  0.6677,  1.0129,  0.4577],\n",
              "          [-0.2884,  0.4853,  0.4123,  ...,  0.6247, -1.3319, -0.4421],\n",
              "          ...,\n",
              "          [ 0.1675, -0.6242,  0.2746,  ...,  0.1283, -0.6598,  0.1094],\n",
              "          [ 0.3577, -0.6515,  0.0806,  ...,  0.1510, -0.6225,  0.1292],\n",
              "          [ 0.3485, -0.7078,  0.1944,  ..., -0.0444, -0.2944,  0.1475]],\n",
              " \n",
              "         [[ 0.3469, -0.1626, -0.2333,  ...,  0.1487,  0.0865,  0.1422],\n",
              "          [ 0.2054,  0.5164, -0.5313,  ...,  0.6677,  1.0129,  0.4577],\n",
              "          [-0.2884,  0.4853,  0.4123,  ...,  0.6247, -1.3319, -0.4421],\n",
              "          ...,\n",
              "          [ 0.1675, -0.6242,  0.2746,  ...,  0.1283, -0.6598,  0.1094],\n",
              "          [ 0.3577, -0.6515,  0.0806,  ...,  0.1510, -0.6225,  0.1292],\n",
              "          [ 0.3485, -0.7078,  0.1944,  ..., -0.0444, -0.2944,  0.1475]],\n",
              " \n",
              "         [[ 0.3469, -0.1626, -0.2333,  ...,  0.1487,  0.0865,  0.1422],\n",
              "          [ 0.2054,  0.5164, -0.5313,  ...,  0.6677,  1.0129,  0.4577],\n",
              "          [-0.7778, -0.0712,  0.2431,  ...,  0.6476,  0.6368, -1.7201],\n",
              "          ...,\n",
              "          [ 0.1675, -0.6242,  0.2746,  ...,  0.1283, -0.6598,  0.1094],\n",
              "          [ 0.3577, -0.6515,  0.0806,  ...,  0.1510, -0.6225,  0.1292],\n",
              "          [ 0.3485, -0.7078,  0.1944,  ..., -0.0444, -0.2944,  0.1475]]]),\n",
              " tensor([[[-1.7827e-01,  3.8519e-02, -1.7407e-01,  ...,  2.0530e-01,\n",
              "            1.2073e-02,  4.3283e-02],\n",
              "          [ 4.2710e-01,  5.1392e-01, -6.5130e-01,  ...,  3.6680e-01,\n",
              "            1.1708e+00,  2.2199e-01],\n",
              "          [-6.6241e-01, -2.0616e-01,  1.5586e-01,  ..., -1.2621e-01,\n",
              "            5.5687e-01, -1.3960e+00],\n",
              "          ...,\n",
              "          [ 1.1749e-01, -2.9009e-02,  3.6440e-01,  ...,  2.4316e-01,\n",
              "           -4.2199e-01, -6.6409e-02],\n",
              "          [ 2.4994e-01, -1.3930e-01,  1.9193e-01,  ...,  3.2294e-01,\n",
              "           -3.9203e-01, -4.0923e-02],\n",
              "          [ 2.6574e-01, -1.4574e-01,  1.9973e-01,  ...,  2.1476e-01,\n",
              "           -2.4281e-01, -3.5687e-02]],\n",
              " \n",
              "         [[-1.8494e-01,  6.3252e-03, -1.1682e-01,  ...,  2.1278e-01,\n",
              "            3.6875e-02,  4.7745e-02],\n",
              "          [ 5.0278e-01,  1.3036e-01, -3.0152e-01,  ...,  5.4918e-01,\n",
              "            1.0761e+00,  3.5660e-01],\n",
              "          [-4.9173e-01,  2.4303e-01,  2.2346e-01,  ...,  1.6704e-01,\n",
              "           -9.6794e-01, -3.8634e-01],\n",
              "          ...,\n",
              "          [ 1.5492e-01, -2.3878e-01,  3.2384e-01,  ...,  3.6208e-01,\n",
              "           -2.6721e-01,  4.3167e-02],\n",
              "          [ 3.5879e-01, -2.8597e-01,  1.7334e-01,  ...,  4.3433e-01,\n",
              "           -2.1825e-01,  5.1425e-02],\n",
              "          [ 3.9267e-01, -2.4811e-01,  2.0127e-01,  ...,  3.6699e-01,\n",
              "           -7.7161e-02,  6.4625e-02]],\n",
              " \n",
              "         [[-1.4927e-01,  5.3524e-02, -1.6441e-01,  ...,  2.2041e-01,\n",
              "           -1.7882e-02,  9.2603e-04],\n",
              "          [ 5.5933e-01,  5.6000e-02, -4.5012e-01,  ...,  3.5023e-01,\n",
              "            9.0350e-01,  2.4804e-01],\n",
              "          [-2.7949e-01,  1.1312e-01, -6.7869e-02,  ...,  5.5226e-01,\n",
              "           -9.0410e-01, -2.0415e-01],\n",
              "          ...,\n",
              "          [ 1.6917e-01, -9.6547e-02,  4.0066e-01,  ...,  3.9741e-01,\n",
              "           -3.4713e-01, -9.6753e-02],\n",
              "          [ 2.9643e-01, -1.2718e-01,  2.7099e-01,  ...,  4.2258e-01,\n",
              "           -3.4381e-01, -9.4921e-02],\n",
              "          [ 3.0086e-01, -1.1424e-01,  2.7809e-01,  ...,  3.0533e-01,\n",
              "           -1.9878e-01, -1.1557e-01]],\n",
              " \n",
              "         ...,\n",
              " \n",
              "         [[-1.4997e-01,  9.8979e-03, -1.6250e-01,  ...,  1.9287e-01,\n",
              "            2.7381e-02,  6.6244e-02],\n",
              "          [ 4.5718e-01,  1.9721e-02, -2.9714e-01,  ...,  4.8075e-01,\n",
              "            1.0315e+00,  3.4475e-01],\n",
              "          [-5.2934e-01,  2.1742e-01,  3.2527e-01,  ...,  1.5023e-01,\n",
              "           -9.7245e-01, -3.0683e-01],\n",
              "          ...,\n",
              "          [ 2.0847e-01, -1.3804e-01,  3.7138e-01,  ...,  3.5602e-01,\n",
              "           -3.3776e-01,  1.5153e-02],\n",
              "          [ 3.2939e-01, -2.0701e-01,  2.1888e-01,  ...,  3.2674e-01,\n",
              "           -3.2047e-01, -3.3072e-02],\n",
              "          [ 3.6050e-01, -2.2184e-01,  2.2669e-01,  ...,  2.5732e-01,\n",
              "           -1.3720e-01, -1.1174e-02]],\n",
              " \n",
              "         [[-1.3993e-01,  3.4633e-02, -1.9373e-01,  ...,  1.9553e-01,\n",
              "            2.9535e-02,  2.1226e-02],\n",
              "          [ 4.9214e-01,  1.8437e-01, -5.3787e-01,  ...,  4.7548e-01,\n",
              "            9.8578e-01,  1.3448e-01],\n",
              "          [-5.8077e-01,  3.5329e-01,  2.4765e-02,  ...,  1.6296e-01,\n",
              "           -1.1098e+00, -2.8816e-01],\n",
              "          ...,\n",
              "          [ 2.1943e-01, -4.1469e-02,  2.8247e-01,  ...,  3.1809e-01,\n",
              "           -3.9671e-01, -2.4603e-01],\n",
              "          [ 3.4511e-01, -8.7584e-02,  1.7562e-01,  ...,  3.0005e-01,\n",
              "           -3.7375e-01, -2.3669e-01],\n",
              "          [ 3.3573e-01, -5.9669e-02,  2.0843e-01,  ...,  2.1167e-01,\n",
              "           -2.1231e-01, -2.2808e-01]],\n",
              " \n",
              "         [[-1.8649e-01,  1.7941e-02, -1.4724e-01,  ...,  2.3159e-01,\n",
              "            3.2527e-02,  4.3717e-02],\n",
              "          [ 5.5593e-01,  6.0906e-01, -5.8134e-01,  ...,  3.4730e-01,\n",
              "            1.0096e+00,  1.3291e-01],\n",
              "          [-6.7912e-01, -1.0521e-01,  1.1746e-01,  ..., -3.0912e-02,\n",
              "            4.7384e-01, -1.3875e+00],\n",
              "          ...,\n",
              "          [ 1.9284e-01, -8.1541e-02,  4.7436e-01,  ...,  2.6723e-01,\n",
              "           -4.8336e-01, -2.0835e-01],\n",
              "          [ 3.2138e-01, -1.5744e-01,  3.2194e-01,  ...,  2.8740e-01,\n",
              "           -4.5070e-01, -1.6748e-01],\n",
              "          [ 3.4631e-01, -1.3464e-01,  3.3829e-01,  ...,  1.6620e-01,\n",
              "           -2.7346e-01, -1.3711e-01]]]),\n",
              " tensor([[[-0.1817, -0.2938, -0.0877,  ..., -0.1812,  0.3509,  0.1154],\n",
              "          [ 0.6372,  0.2953, -0.3449,  ...,  0.2139,  0.9926,  0.1784],\n",
              "          [-0.0378, -0.5229,  0.6784,  ..., -0.3941,  0.8233, -1.4015],\n",
              "          ...,\n",
              "          [ 0.2920, -0.0898, -0.1071,  ..., -0.3235, -0.1265,  0.1364],\n",
              "          [ 0.5589, -0.2535, -0.2615,  ..., -0.2126, -0.3688,  0.1419],\n",
              "          [ 0.4303,  0.1158, -0.0690,  ...,  0.1251, -0.2014, -0.0930]],\n",
              " \n",
              "         [[-0.1162, -0.3709, -0.0203,  ..., -0.1381,  0.4386,  0.1755],\n",
              "          [ 0.7281,  0.1766, -0.0971,  ...,  0.4024,  0.8543,  0.1245],\n",
              "          [-0.1021,  0.6594,  0.2333,  ...,  0.4729, -1.2338,  0.2188],\n",
              "          ...,\n",
              "          [ 0.2845, -0.4152,  0.4303,  ...,  0.9771, -0.1545,  0.0287],\n",
              "          [ 0.9794, -0.3139,  0.0767,  ...,  0.4203,  0.0717, -0.4025],\n",
              "          [ 1.3822,  0.0063, -0.3866,  ...,  0.0992,  0.1851, -0.1999]],\n",
              " \n",
              "         [[-0.1045, -0.2835,  0.0094,  ..., -0.1354,  0.3135,  0.1425],\n",
              "          [ 0.7900,  0.0903, -0.1539,  ...,  0.3964,  0.6701,  0.0223],\n",
              "          [ 0.6121, -0.0475, -0.2350,  ...,  0.4520, -0.8329,  0.1847],\n",
              "          ...,\n",
              "          [ 1.0432,  0.2906,  0.1325,  ..., -0.0792, -0.0977, -0.2155],\n",
              "          [ 0.3906,  0.6369, -0.2459,  ..., -0.1675, -0.4294, -0.2839],\n",
              "          [ 0.6138,  0.2165, -0.1822,  ..., -0.5407, -0.1334,  0.0249]],\n",
              " \n",
              "         ...,\n",
              " \n",
              "         [[-0.0842, -0.3503, -0.0071,  ..., -0.1635,  0.4408,  0.1759],\n",
              "          [ 0.7100,  0.1181, -0.0923,  ...,  0.3655,  0.8304,  0.1586],\n",
              "          [-0.1193,  0.5719,  0.3707,  ...,  0.4385, -1.3160,  0.2578],\n",
              "          ...,\n",
              "          [ 0.2944,  0.0739,  0.0636,  ..., -0.0962, -0.4483,  0.0294],\n",
              "          [ 0.8554,  0.6019,  0.1015,  ..., -0.0665,  0.3247, -0.3283],\n",
              "          [ 0.7596,  0.2713, -0.0020,  ..., -0.3669,  0.4910, -0.2768]],\n",
              " \n",
              "         [[-0.0724, -0.2396, -0.0087,  ..., -0.2117,  0.3643,  0.1412],\n",
              "          [ 0.8589,  0.1023, -0.4529,  ...,  0.4560,  0.7319,  0.1207],\n",
              "          [-0.1305,  0.7855,  0.0838,  ...,  0.4225, -1.1580,  0.1121],\n",
              "          ...,\n",
              "          [ 0.8625,  0.3541, -0.0369,  ...,  0.0058, -0.1148, -0.3414],\n",
              "          [ 0.2730,  0.6593, -0.3398,  ..., -0.1641, -0.4259, -0.3863],\n",
              "          [ 0.6081,  0.1987, -0.1541,  ..., -0.3455,  0.0380, -0.2908]],\n",
              " \n",
              "         [[-0.1320, -0.3182, -0.0060,  ..., -0.1178,  0.3113,  0.1658],\n",
              "          [ 0.8603,  0.2975, -0.4673,  ...,  0.2717,  0.7868,  0.3684],\n",
              "          [-0.0312, -0.4216,  0.6560,  ..., -0.2691,  0.6932, -1.3162],\n",
              "          ...,\n",
              "          [ 0.3152,  0.0275,  0.3626,  ..., -0.1707,  0.0246,  0.1459],\n",
              "          [ 0.1970, -0.2601,  0.1802,  ...,  0.1263, -0.2468,  0.0760],\n",
              "          [ 0.6337, -0.1404, -0.0718,  ..., -0.3178,  0.0809,  0.1155]]]),\n",
              " tensor([[[ 0.1638, -0.4433, -0.2197,  ..., -0.2278,  0.4153,  0.1848],\n",
              "          [ 0.8267,  0.3635, -0.4865,  ...,  0.2427,  0.9007,  0.1468],\n",
              "          [ 0.1775, -0.2955,  0.2451,  ..., -0.7228,  0.1711, -1.2144],\n",
              "          ...,\n",
              "          [ 0.6882,  0.3213, -0.2268,  ..., -0.4998,  0.0453,  0.2668],\n",
              "          [ 0.9029, -0.0086, -0.2981,  ..., -0.3809, -0.1948,  0.1790],\n",
              "          [ 0.4183,  0.5467, -0.1537,  ..., -0.1225, -0.1621, -0.3980]],\n",
              " \n",
              "         [[ 0.1012, -0.5037, -0.1886,  ..., -0.0398,  0.4903,  0.4096],\n",
              "          [ 0.9565,  0.2082, -0.4079,  ...,  0.5173,  0.9485,  0.1294],\n",
              "          [ 0.4397,  0.6991, -0.2311,  ..., -0.0492, -0.6699,  0.2750],\n",
              "          ...,\n",
              "          [ 0.7539, -0.2591,  0.5649,  ...,  0.9885, -0.7082, -0.0178],\n",
              "          [ 0.8468,  0.0730, -0.5639,  ..., -0.0250, -0.0238, -0.4053],\n",
              "          [ 1.3272,  0.2763, -0.1439,  ...,  0.1554,  0.0734, -0.1967]],\n",
              " \n",
              "         [[ 0.1807, -0.4349, -0.2229,  ..., -0.2128,  0.2164,  0.2378],\n",
              "          [ 0.8808,  0.2639, -0.2941,  ...,  0.3128,  0.6567,  0.0985],\n",
              "          [ 1.0447,  0.2815, -0.1046,  ..., -0.0632, -0.4242,  0.4197],\n",
              "          ...,\n",
              "          [ 1.2129,  0.5830,  0.1690,  ..., -0.3696, -0.0575, -0.1900],\n",
              "          [ 0.4946,  0.7532, -0.0889,  ..., -0.3192, -0.1014, -0.2904],\n",
              "          [ 0.7862,  0.7004,  0.0324,  ..., -0.5900,  0.1115,  0.2770]],\n",
              " \n",
              "         ...,\n",
              " \n",
              "         [[ 0.2266, -0.5226, -0.0320,  ..., -0.1084,  0.3817,  0.3673],\n",
              "          [ 0.9573,  0.1305, -0.1947,  ...,  0.4793,  0.8483,  0.1062],\n",
              "          [ 0.3561,  0.6264, -0.0033,  ..., -0.0412, -0.6996,  0.2733],\n",
              "          ...,\n",
              "          [ 0.4792,  0.3782,  0.2058,  ...,  0.2248, -0.4126, -0.1643],\n",
              "          [ 0.6692,  1.3694,  0.0702,  ..., -0.2477,  0.4013, -0.4034],\n",
              "          [ 0.8357,  0.7641,  0.3411,  ..., -0.1344,  0.2775, -0.1966]],\n",
              " \n",
              "         [[ 0.1775, -0.3859, -0.1796,  ..., -0.3091,  0.1847,  0.3234],\n",
              "          [ 0.8678,  0.2750, -0.5297,  ...,  0.3689,  0.6080,  0.3509],\n",
              "          [ 0.2768,  0.7530, -0.4104,  ..., -0.1569, -0.6354,  0.3123],\n",
              "          ...,\n",
              "          [ 0.7348,  0.6321, -0.0060,  ..., -0.1031, -0.0373, -0.3082],\n",
              "          [ 0.3015,  0.7755, -0.3327,  ..., -0.2661, -0.2724, -0.2559],\n",
              "          [ 0.7312,  0.6162,  0.0615,  ..., -0.3780, -0.1260, -0.0473]],\n",
              " \n",
              "         [[ 0.1196, -0.4847, -0.2850,  ..., -0.1078,  0.4028,  0.3300],\n",
              "          [ 0.9910,  0.1822, -0.5154,  ...,  0.3179,  0.8482,  0.4284],\n",
              "          [ 0.1705, -0.3923,  0.3374,  ..., -0.6996,  0.0777, -1.1300],\n",
              "          ...,\n",
              "          [ 0.5980,  0.6660,  0.3175,  ..., -0.3427,  0.3638,  0.3956],\n",
              "          [ 0.2220,  0.0992,  0.2615,  ..., -0.2068, -0.1984,  0.1911],\n",
              "          [ 0.7676,  0.0459,  0.0040,  ..., -0.4730, -0.0610,  0.2501]]]),\n",
              " tensor([[[ 0.1157, -0.4651, -0.4597,  ..., -0.3112,  0.1374,  0.1866],\n",
              "          [ 0.5771,  0.2510, -0.4983,  ..., -0.1689,  0.6712,  0.1546],\n",
              "          [ 0.1368,  0.0237, -0.3368,  ..., -0.7967,  0.5659, -1.1604],\n",
              "          ...,\n",
              "          [ 1.0334,  0.6932, -0.2032,  ..., -0.1517,  0.2218, -0.2127],\n",
              "          [ 1.1442,  0.3475, -0.2240,  ..., -0.0200, -0.2078, -0.3447],\n",
              "          [ 0.3487,  0.7180, -0.2134,  ...,  0.2817, -0.4920, -0.6984]],\n",
              " \n",
              "         [[ 0.0950, -0.5741, -0.4268,  ..., -0.0788,  0.2064,  0.3771],\n",
              "          [ 0.7559,  0.1264, -0.5003,  ...,  0.2558,  0.5644,  0.2512],\n",
              "          [-0.1411,  0.9074, -0.4370,  ...,  0.1364, -0.4601,  0.3533],\n",
              "          ...,\n",
              "          [ 0.2716,  0.1452,  1.2482,  ...,  1.0839, -1.1527, -0.0942],\n",
              "          [ 0.3869,  0.0305, -0.7729,  ...,  0.0239, -0.1467, -0.1002],\n",
              "          [ 1.2386,  0.5388, -0.0896,  ..., -0.1299,  0.2905,  0.1779]],\n",
              " \n",
              "         [[ 0.1912, -0.4556, -0.3882,  ..., -0.2881,  0.1962,  0.2000],\n",
              "          [ 0.7971,  0.2065, -0.2485,  ...,  0.1949,  0.6700,  0.1846],\n",
              "          [ 1.0973,  0.3894, -0.4655,  ..., -0.4575,  0.0786,  0.0117],\n",
              "          ...,\n",
              "          [ 0.8007,  0.6387, -0.0337,  ..., -0.5319, -0.3445, -0.6406],\n",
              "          [ 0.5581,  1.0733, -0.2578,  ..., -0.6977, -0.1691, -0.4742],\n",
              "          [ 0.8614,  1.0633,  0.1213,  ..., -0.5594,  0.2791, -0.0744]],\n",
              " \n",
              "         ...,\n",
              " \n",
              "         [[ 0.1437, -0.5740, -0.3009,  ..., -0.0533,  0.0865,  0.3711],\n",
              "          [ 0.7316,  0.1073, -0.3743,  ...,  0.1913,  0.4917,  0.2123],\n",
              "          [-0.2634,  0.8573, -0.3486,  ...,  0.1218, -0.4402,  0.2812],\n",
              "          ...,\n",
              "          [ 0.2786,  0.7461,  0.2901,  ..., -0.1860, -0.4863, -0.2524],\n",
              "          [ 0.5340,  1.4381, -0.1372,  ..., -0.1789,  0.2956, -0.4690],\n",
              "          [ 0.9283,  1.0051,  0.1936,  ..., -0.1597,  0.3539, -0.2483]],\n",
              " \n",
              "         [[ 0.1183, -0.5379, -0.4486,  ..., -0.2883, -0.0707,  0.2704],\n",
              "          [ 0.5263,  0.1896, -0.6188,  ...,  0.0221,  0.3748,  0.3026],\n",
              "          [-0.2176,  0.7903, -0.5134,  ..., -0.4352, -0.4705,  0.1860],\n",
              "          ...,\n",
              "          [ 0.3618,  0.7550,  0.0227,  ..., -0.2782, -0.5083, -0.6827],\n",
              "          [ 0.2644,  0.9602, -0.5226,  ..., -0.6038, -0.5644, -0.1558],\n",
              "          [ 0.9124,  0.6800,  0.2045,  ..., -0.5693,  0.0645,  0.0348]],\n",
              " \n",
              "         [[ 0.1715, -0.5457, -0.4279,  ..., -0.2183,  0.1915,  0.3520],\n",
              "          [ 0.6955,  0.1763, -0.4383,  ...,  0.1693,  0.6786,  0.2928],\n",
              "          [ 0.2820,  0.0274, -0.1190,  ..., -0.8629,  0.2342, -0.9974],\n",
              "          ...,\n",
              "          [ 0.8634,  0.6615,  0.3677,  ..., -0.1847,  1.0627,  0.4531],\n",
              "          [ 0.6548,  0.1814,  0.1378,  ..., -0.4880,  0.0511,  0.3337],\n",
              "          [ 1.2090,  0.2244, -0.1320,  ..., -0.3630,  0.2644,  0.3599]]]),\n",
              " tensor([[[ 0.2143, -0.6468, -0.3565,  ..., -0.0713,  0.1695,  0.1841],\n",
              "          [ 0.5958, -0.1790, -0.5856,  ..., -0.2813,  0.7238,  0.1166],\n",
              "          [ 0.1165, -0.1260,  0.1068,  ..., -0.1982,  0.1358, -0.2838],\n",
              "          ...,\n",
              "          [ 0.6279,  0.5531, -0.4040,  ..., -0.1350, -0.1088, -0.2453],\n",
              "          [ 0.5857,  0.3464, -0.4338,  ..., -0.1566, -0.4569, -0.4364],\n",
              "          [-0.2261,  0.6624, -0.4063,  ..., -0.0794, -0.9968, -0.8951]],\n",
              " \n",
              "         [[ 0.1283, -0.5676, -0.2570,  ...,  0.0802,  0.2453,  0.5011],\n",
              "          [ 0.7267, -0.2868, -0.5730,  ...,  0.0039,  1.0193,  0.2232],\n",
              "          [-0.0027,  0.4865, -0.2951,  ...,  0.1407, -0.1264,  0.5561],\n",
              "          ...,\n",
              "          [ 0.1122,  0.0709,  1.0502,  ...,  0.7710, -1.3142, -0.0830],\n",
              "          [ 0.3215,  0.0798, -0.9120,  ..., -0.0608, -0.4060,  0.2971],\n",
              "          [ 0.7672,  0.1212, -0.3491,  ...,  0.0747,  0.3585,  0.5147]],\n",
              " \n",
              "         [[ 0.1786, -0.5561, -0.1211,  ..., -0.0379,  0.3452,  0.2483],\n",
              "          [ 0.8800, -0.1227, -0.2178,  ...,  0.0146,  0.7416,  0.0311],\n",
              "          [ 1.0159,  0.1312, -0.2076,  ..., -0.4492,  0.1515,  0.0550],\n",
              "          ...,\n",
              "          [ 0.4861,  0.3636,  0.2174,  ..., -0.4407, -0.3481, -0.6675],\n",
              "          [ 0.3002,  0.9856, -0.4929,  ..., -0.6151, -0.2352, -0.5784],\n",
              "          [ 0.5497,  0.7047,  0.0063,  ..., -0.6228, -0.1521, -0.3687]],\n",
              " \n",
              "         ...,\n",
              " \n",
              "         [[ 0.2741, -0.5530, -0.1537,  ..., -0.0474,  0.1569,  0.4352],\n",
              "          [ 0.7939, -0.3284, -0.4288,  ..., -0.0227,  0.9323,  0.1111],\n",
              "          [-0.0929,  0.4997, -0.1640,  ...,  0.1641, -0.2035,  0.4340],\n",
              "          ...,\n",
              "          [ 0.2218,  0.7341,  0.0860,  ..., -0.4324, -0.9281,  0.2921],\n",
              "          [ 0.2927,  1.1846, -0.3119,  ..., -0.1557, -0.3304,  0.2350],\n",
              "          [ 0.8129,  0.6660,  0.2015,  ...,  0.0774, -0.1489,  0.2751]],\n",
              " \n",
              "         [[ 0.1382, -0.6424, -0.2383,  ..., -0.1155,  0.2148,  0.3599],\n",
              "          [ 0.6716, -0.2057, -0.5218,  ..., -0.1154,  0.7059,  0.1902],\n",
              "          [-0.1314,  0.6696, -0.1566,  ..., -0.0991, -0.3255,  0.1582],\n",
              "          ...,\n",
              "          [-0.1560,  0.7867,  0.0424,  ..., -0.4006, -0.4719, -0.6629],\n",
              "          [ 0.1504,  0.9465, -0.9092,  ..., -0.5659, -0.4797,  0.0410],\n",
              "          [ 0.8351,  0.3725, -0.1286,  ..., -0.3724, -0.1406,  0.1046]],\n",
              " \n",
              "         [[ 0.3502, -0.6488, -0.2993,  ...,  0.0948,  0.2665,  0.4904],\n",
              "          [ 0.9348, -0.2679, -0.5705,  ..., -0.1210,  0.9761,  0.2597],\n",
              "          [ 0.0569, -0.0360,  0.0653,  ..., -0.0739,  0.0283, -0.1102],\n",
              "          ...,\n",
              "          [ 0.9304,  0.1262, -0.1139,  ...,  0.0249,  0.7408,  0.2004],\n",
              "          [ 1.0758,  0.2655,  0.1639,  ..., -0.2878,  0.2166,  0.2369],\n",
              "          [ 1.0690,  0.0432, -0.5877,  ..., -0.2340,  0.0040,  0.6001]]]),\n",
              " tensor([[[ 0.0841, -0.0198, -0.2021,  ...,  0.0499,  0.3434,  0.1690],\n",
              "          [ 0.3107,  0.0516, -0.2485,  ...,  0.0501,  0.7344,  0.0220],\n",
              "          [ 0.7648,  0.2803,  0.1111,  ..., -0.2885, -0.3476, -0.8294],\n",
              "          ...,\n",
              "          [ 0.3163,  0.2358, -0.0528,  ...,  0.0368,  0.2251, -0.1330],\n",
              "          [ 0.2895,  0.1890, -0.1282,  ...,  0.0203,  0.1230, -0.2716],\n",
              "          [-0.1065,  0.2706, -0.2294,  ...,  0.0419, -0.1235, -0.5373]],\n",
              " \n",
              "         [[-0.0142,  0.0060,  0.0803,  ...,  0.0602,  0.3119,  0.4519],\n",
              "          [ 0.3897,  0.0169, -0.0789,  ...,  0.2594,  0.9850,  0.1913],\n",
              "          [-0.0264,  0.5884,  0.2746,  ..., -0.1283,  0.0387,  0.0960],\n",
              "          ...,\n",
              "          [ 0.1324,  0.0891,  0.3208,  ...,  0.4299, -0.5840,  0.0954],\n",
              "          [ 0.0677,  0.2187, -0.3154,  ...,  0.0300, -0.0866,  0.1603],\n",
              "          [ 0.3268,  0.1626,  0.1044,  ...,  0.1312,  0.2316,  0.2961]],\n",
              " \n",
              "         [[ 0.2047,  0.1001, -0.1888,  ...,  0.0061,  0.4276,  0.3608],\n",
              "          [ 0.5281,  0.2096, -0.1156,  ...,  0.1035,  0.6171,  0.1116],\n",
              "          [ 0.6901,  0.3335, -0.1232,  ..., -0.2542,  0.3661, -0.0415],\n",
              "          ...,\n",
              "          [ 0.3100,  0.3825,  0.1732,  ..., -0.1171, -0.1283, -0.0767],\n",
              "          [ 0.2473,  0.4437, -0.1285,  ..., -0.0862, -0.0653, -0.1492],\n",
              "          [ 0.3218,  0.4585,  0.0378,  ...,  0.0230, -0.1121,  0.0469]],\n",
              " \n",
              "         ...,\n",
              " \n",
              "         [[ 0.0983,  0.1222,  0.0715,  ...,  0.0692,  0.3712,  0.3590],\n",
              "          [ 0.4070,  0.1224, -0.0465,  ...,  0.1744,  0.8747,  0.0604],\n",
              "          [-0.0944,  0.6590,  0.2487,  ..., -0.1371,  0.0115,  0.0442],\n",
              "          ...,\n",
              "          [ 0.0286,  0.4530,  0.2164,  ..., -0.0319, -0.3118,  0.3434],\n",
              "          [-0.1085,  0.5764,  0.0466,  ...,  0.1263, -0.0387,  0.3924],\n",
              "          [ 0.2493,  0.2719,  0.3283,  ...,  0.1655,  0.0144,  0.2442]],\n",
              " \n",
              "         [[ 0.1630,  0.1376, -0.2280,  ...,  0.0461,  0.3953,  0.3305],\n",
              "          [ 0.4998,  0.1751, -0.3721,  ...,  0.0566,  0.7231,  0.1032],\n",
              "          [ 0.0486,  0.7727, -0.0536,  ..., -0.1493, -0.0710, -0.1563],\n",
              "          ...,\n",
              "          [ 0.0741,  0.5079,  0.0135,  ..., -0.0619, -0.2940, -0.2924],\n",
              "          [ 0.1655,  0.3998, -0.3432,  ..., -0.1096, -0.2194,  0.0433],\n",
              "          [ 0.6311,  0.1890, -0.0545,  ...,  0.0657, -0.0278,  0.2157]],\n",
              " \n",
              "         [[ 0.2438, -0.0936, -0.2388,  ...,  0.1957,  0.3840,  0.3443],\n",
              "          [ 0.5869,  0.0354, -0.2889,  ...,  0.2024,  0.9012,  0.1198],\n",
              "          [ 0.8056,  0.2951, -0.1265,  ..., -0.0010, -0.6053, -0.5998],\n",
              "          ...,\n",
              "          [ 0.4206,  0.1416,  0.0273,  ...,  0.0907,  0.3003,  0.1031],\n",
              "          [ 0.5593,  0.1305,  0.2998,  ..., -0.0746,  0.0393, -0.0059],\n",
              "          [ 0.4882,  0.0166, -0.1496,  ..., -0.0354,  0.1185,  0.2004]]]))"
            ]
          },
          "metadata": {},
          "execution_count": 112
        }
      ]
    },
    {
      "cell_type": "markdown",
      "source": [
        "Nie zwraca mi last_hiden_state więc ['hidden_states'][-1]"
      ],
      "metadata": {
        "id": "NCM4MNbAVq4U"
      }
    },
    {
      "cell_type": "code",
      "source": [
        "cls_train = hidden_train['hidden_states'][-1][:,0,:]\n",
        "cls_test = hidden_test['hidden_states'][-1][:,0,:]"
      ],
      "metadata": {
        "id": "nKHi-aGuDlu1"
      },
      "execution_count": null,
      "outputs": []
    },
    {
      "cell_type": "markdown",
      "source": [
        "# Linear regression"
      ],
      "metadata": {
        "id": "vv8fh55gXqpC"
      }
    },
    {
      "cell_type": "code",
      "source": [
        "from sklearn.linear_model import LogisticRegression\n",
        "classifier = LogisticRegression()\n",
        "classifier.fit(cls_train, dataset['train']['label'])\n",
        "y_pred = classifier.predict(cls_test)"
      ],
      "metadata": {
        "id": "XoU313_DOtvd",
        "colab": {
          "base_uri": "https://localhost:8080/"
        },
        "outputId": "7b9f0475-d071-4240-834c-481ff699e6be"
      },
      "execution_count": null,
      "outputs": [
        {
          "output_type": "stream",
          "name": "stderr",
          "text": [
            "/usr/local/lib/python3.10/dist-packages/sklearn/linear_model/_logistic.py:458: ConvergenceWarning: lbfgs failed to converge (status=1):\n",
            "STOP: TOTAL NO. of ITERATIONS REACHED LIMIT.\n",
            "\n",
            "Increase the number of iterations (max_iter) or scale the data as shown in:\n",
            "    https://scikit-learn.org/stable/modules/preprocessing.html\n",
            "Please also refer to the documentation for alternative solver options:\n",
            "    https://scikit-learn.org/stable/modules/linear_model.html#logistic-regression\n",
            "  n_iter_i = _check_optimize_result(\n"
          ]
        }
      ]
    },
    {
      "cell_type": "code",
      "source": [
        "from sklearn.metrics import accuracy_score\n",
        "accuracy = accuracy_score(dataset['test']['label'], y_pred)\n",
        "print(accuracy)"
      ],
      "metadata": {
        "colab": {
          "base_uri": "https://localhost:8080/"
        },
        "id": "0LNP-wvkUVS0",
        "outputId": "50dd3108-1923-4f67-c4cb-7c6a37e3fba3"
      },
      "execution_count": null,
      "outputs": [
        {
          "output_type": "stream",
          "name": "stdout",
          "text": [
            "0.8254716981132075\n"
          ]
        }
      ]
    },
    {
      "cell_type": "markdown",
      "source": [
        "# Random forest"
      ],
      "metadata": {
        "id": "bDk89PmiXt8e"
      }
    },
    {
      "cell_type": "code",
      "source": [
        "from sklearn.ensemble import RandomForestClassifier\n",
        "\n",
        "rf = RandomForestClassifier()\n",
        "rf.fit(cls_train,dataset['train']['label'])\n",
        "rf.score(cls_test,dataset['test']['label'])"
      ],
      "metadata": {
        "colab": {
          "base_uri": "https://localhost:8080/"
        },
        "id": "ybxlGRtwW-HK",
        "outputId": "1ec1500b-7294-403f-9cdf-d352dfe6729e"
      },
      "execution_count": null,
      "outputs": [
        {
          "output_type": "execute_result",
          "data": {
            "text/plain": [
              "0.7405660377358491"
            ]
          },
          "metadata": {},
          "execution_count": 116
        }
      ]
    },
    {
      "cell_type": "markdown",
      "source": [
        "# Model electra"
      ],
      "metadata": {
        "id": "tEZ4euay4m19"
      }
    },
    {
      "cell_type": "markdown",
      "source": [
        "[huggingFace](https://colab.research.google.com/drive/17P5gMERLXT-rbJKDcJToXt9OeOUtgQVU#scrollTo=3arQXwuZ7OAm&line=1&uniqifier=1)Electra uses two transformers: a generator and a discriminator. The generator's task is to replace tokens in the sequence and the discriminator is to identify the replaced tokens. Apparently it can use training data better and achieve better results than Bert, so it may work well in a set with a relatively small number of data and their length"
      ],
      "metadata": {
        "id": "ISCrKzdi_GUn"
      }
    },
    {
      "cell_type": "code",
      "source": [
        "model_checkpoint = 'google/electra-base-discriminator'\n",
        "batch_size = 64"
      ],
      "metadata": {
        "id": "Agh8A9cy4m19"
      },
      "execution_count": null,
      "outputs": []
    },
    {
      "cell_type": "markdown",
      "source": [
        "Tokenization"
      ],
      "metadata": {
        "id": "Wha4tVNb4m19"
      }
    },
    {
      "cell_type": "code",
      "source": [
        "tokenizer = AutoTokenizer.from_pretrained(model_checkpoint,use_fast=True)"
      ],
      "metadata": {
        "colab": {
          "base_uri": "https://localhost:8080/"
        },
        "outputId": "1d5ff5d0-9b7d-40ba-a08c-330d0284eab9",
        "id": "BSDT3v1g4m1-"
      },
      "execution_count": null,
      "outputs": [
        {
          "output_type": "stream",
          "name": "stderr",
          "text": [
            "/usr/local/lib/python3.10/dist-packages/huggingface_hub/file_download.py:1132: FutureWarning: `resume_download` is deprecated and will be removed in version 1.0.0. Downloads always resume when possible. If you want to force a new download, use `force_download=True`.\n",
            "  warnings.warn(\n"
          ]
        }
      ]
    },
    {
      "cell_type": "code",
      "source": [
        "num_labels = 22\n",
        "model1 = AutoModelForSequenceClassification.from_pretrained(model_checkpoint, num_labels=num_labels)"
      ],
      "metadata": {
        "colab": {
          "base_uri": "https://localhost:8080/"
        },
        "id": "Wgw6ZwxR46Ur",
        "outputId": "e5fd6b19-d823-4ca6-d5c2-55045bd1cd55"
      },
      "execution_count": null,
      "outputs": [
        {
          "output_type": "stream",
          "name": "stderr",
          "text": [
            "Some weights of ElectraForSequenceClassification were not initialized from the model checkpoint at google/electra-base-discriminator and are newly initialized: ['classifier.dense.bias', 'classifier.dense.weight', 'classifier.out_proj.bias', 'classifier.out_proj.weight']\n",
            "You should probably TRAIN this model on a down-stream task to be able to use it for predictions and inference.\n"
          ]
        }
      ]
    },
    {
      "cell_type": "markdown",
      "source": [
        "# Model Electra fine tuning"
      ],
      "metadata": {
        "id": "VX0JJp695T9s"
      }
    },
    {
      "cell_type": "markdown",
      "source": [
        "\n",
        "The steps are the same as in Bert's case, except for a few repetitive elements"
      ],
      "metadata": {
        "id": "3arQXwuZ7OAm"
      }
    },
    {
      "cell_type": "code",
      "source": [
        "args = TrainingArguments(\n",
        "    f'{model_checkpoint}_classification',\n",
        "    evaluation_strategy = 'steps',\n",
        "    eval_steps = 50,\n",
        "    save_strategy = 'steps',\n",
        "    learning_rate = 2e-4,\n",
        "    per_device_train_batch_size = batch_size,\n",
        "    per_device_eval_batch_size = batch_size,\n",
        "    num_train_epochs = 25,\n",
        "    weight_decay = 0.01,\n",
        "    load_best_model_at_end = True,\n",
        "    metric_for_best_model = 'eval_loss'\n",
        ")"
      ],
      "metadata": {
        "id": "I3RQ0EgR49iC"
      },
      "execution_count": null,
      "outputs": []
    },
    {
      "cell_type": "code",
      "source": [
        "metric = load_metric('glue', 'sst2')\n",
        "\n",
        "def compute_metrics(eval_preds):\n",
        "  logits, labels = eval_preds\n",
        "  predictions = np.argmax(logits, axis=1)\n",
        "  return metric.compute(predictions=predictions, references=labels)"
      ],
      "metadata": {
        "colab": {
          "base_uri": "https://localhost:8080/"
        },
        "id": "F44NrWPo5D-6",
        "outputId": "9ded514f-f8d6-48b6-8e6c-c9f8c9d506df"
      },
      "execution_count": null,
      "outputs": [
        {
          "output_type": "stream",
          "name": "stderr",
          "text": [
            "/usr/local/lib/python3.10/dist-packages/datasets/load.py:759: FutureWarning: The repository for glue contains custom code which must be executed to correctly load the metric. You can inspect the repository content at https://raw.githubusercontent.com/huggingface/datasets/2.19.0/metrics/glue/glue.py\n",
            "You can avoid this message in future by passing the argument `trust_remote_code=True`.\n",
            "Passing `trust_remote_code=True` will be mandatory to load this metric from the next major release of `datasets`.\n",
            "  warnings.warn(\n"
          ]
        }
      ]
    },
    {
      "cell_type": "code",
      "source": [
        "trainer = Trainer(\n",
        "    model1,\n",
        "    args,\n",
        "    train_dataset=train_ds,\n",
        "    eval_dataset=test_ds,\n",
        "    tokenizer=tokenizer,\n",
        "    compute_metrics=compute_metrics,\n",
        "    callbacks = [EarlyStoppingCallback(early_stopping_patience=3)]\n",
        ")"
      ],
      "metadata": {
        "id": "HQeVyQVf5H0h"
      },
      "execution_count": null,
      "outputs": []
    },
    {
      "cell_type": "code",
      "source": [
        "trainer.evaluate([train_ds[0]])"
      ],
      "metadata": {
        "colab": {
          "base_uri": "https://localhost:8080/",
          "height": 124
        },
        "id": "tbgDEw-m5MUq",
        "outputId": "eec4507f-fddf-45af-cc5e-e087d5624da0"
      },
      "execution_count": null,
      "outputs": [
        {
          "output_type": "display_data",
          "data": {
            "text/plain": [
              "<IPython.core.display.HTML object>"
            ],
            "text/html": [
              "\n",
              "    <div>\n",
              "      \n",
              "      <progress value='1' max='1' style='width:300px; height:20px; vertical-align: middle;'></progress>\n",
              "      [1/1 : < :]\n",
              "    </div>\n",
              "    "
            ]
          },
          "metadata": {}
        },
        {
          "output_type": "execute_result",
          "data": {
            "text/plain": [
              "{'eval_loss': 3.1159493923187256,\n",
              " 'eval_accuracy': 0.0,\n",
              " 'eval_runtime': 0.0307,\n",
              " 'eval_samples_per_second': 32.593,\n",
              " 'eval_steps_per_second': 32.593}"
            ]
          },
          "metadata": {},
          "execution_count": 123
        }
      ]
    },
    {
      "cell_type": "code",
      "source": [
        "trainer.train()"
      ],
      "metadata": {
        "colab": {
          "base_uri": "https://localhost:8080/",
          "height": 350
        },
        "id": "KNfiITxr5M6y",
        "outputId": "25c543ac-5294-40ee-b83b-8d17c7803075"
      },
      "execution_count": null,
      "outputs": [
        {
          "output_type": "display_data",
          "data": {
            "text/plain": [
              "<IPython.core.display.HTML object>"
            ],
            "text/html": [
              "\n",
              "    <div>\n",
              "      \n",
              "      <progress value='350' max='350' style='width:300px; height:20px; vertical-align: middle;'></progress>\n",
              "      [350/350 03:52, Epoch 25/25]\n",
              "    </div>\n",
              "    <table border=\"1\" class=\"dataframe\">\n",
              "  <thead>\n",
              " <tr style=\"text-align: left;\">\n",
              "      <th>Step</th>\n",
              "      <th>Training Loss</th>\n",
              "      <th>Validation Loss</th>\n",
              "      <th>Accuracy</th>\n",
              "    </tr>\n",
              "  </thead>\n",
              "  <tbody>\n",
              "    <tr>\n",
              "      <td>50</td>\n",
              "      <td>No log</td>\n",
              "      <td>1.162947</td>\n",
              "      <td>0.641509</td>\n",
              "    </tr>\n",
              "    <tr>\n",
              "      <td>100</td>\n",
              "      <td>No log</td>\n",
              "      <td>0.283592</td>\n",
              "      <td>0.919811</td>\n",
              "    </tr>\n",
              "    <tr>\n",
              "      <td>150</td>\n",
              "      <td>No log</td>\n",
              "      <td>0.330666</td>\n",
              "      <td>0.924528</td>\n",
              "    </tr>\n",
              "    <tr>\n",
              "      <td>200</td>\n",
              "      <td>No log</td>\n",
              "      <td>0.356853</td>\n",
              "      <td>0.924528</td>\n",
              "    </tr>\n",
              "    <tr>\n",
              "      <td>250</td>\n",
              "      <td>No log</td>\n",
              "      <td>0.290618</td>\n",
              "      <td>0.938679</td>\n",
              "    </tr>\n",
              "    <tr>\n",
              "      <td>300</td>\n",
              "      <td>No log</td>\n",
              "      <td>0.214665</td>\n",
              "      <td>0.952830</td>\n",
              "    </tr>\n",
              "    <tr>\n",
              "      <td>350</td>\n",
              "      <td>No log</td>\n",
              "      <td>0.219076</td>\n",
              "      <td>0.952830</td>\n",
              "    </tr>\n",
              "  </tbody>\n",
              "</table><p>"
            ]
          },
          "metadata": {}
        },
        {
          "output_type": "display_data",
          "data": {
            "text/plain": [
              "<IPython.core.display.HTML object>"
            ],
            "text/html": [
              "\n",
              "    <div>\n",
              "      \n",
              "      <progress value='5' max='1' style='width:300px; height:20px; vertical-align: middle;'></progress>\n",
              "      [1/1 00:32]\n",
              "    </div>\n",
              "    "
            ]
          },
          "metadata": {}
        },
        {
          "output_type": "execute_result",
          "data": {
            "text/plain": [
              "TrainOutput(global_step=350, training_loss=0.41820242745535713, metrics={'train_runtime': 233.4304, 'train_samples_per_second': 91.355, 'train_steps_per_second': 1.499, 'total_flos': 713142038996220.0, 'train_loss': 0.41820242745535713, 'epoch': 25.0})"
            ]
          },
          "metadata": {},
          "execution_count": 124
        }
      ]
    },
    {
      "cell_type": "markdown",
      "source": [
        "Test"
      ],
      "metadata": {
        "id": "qTv1YXma-bHr"
      }
    },
    {
      "cell_type": "code",
      "source": [
        "pr = trainer.predict(test_ds)\n",
        "from sklearn.metrics import confusion_matrix\n",
        "confusion = confusion_matrix(pr.label_ids, np.argmax(pr.predictions, axis=1))\n",
        "plt.figure(figsize=(12, 12))\n",
        "sns.heatmap(confusion, annot=True)\n",
        "\n",
        "plt.xticks(ticks=range(len(label_encoder.classes_)), labels=label_encoder.classes_, rotation=60)\n",
        "plt.yticks(ticks=range(len(label_encoder.classes_)), labels=label_encoder.classes_, rotation=0)\n",
        "\n",
        "plt.title('Confusion Matrix')\n",
        "plt.xlabel('Predicted')\n",
        "plt.ylabel('True')\n",
        "plt.show()"
      ],
      "metadata": {
        "colab": {
          "base_uri": "https://localhost:8080/",
          "height": 1000
        },
        "id": "f8v1HnCK-LKa",
        "outputId": "835cc012-2f3b-4a28-f047-1376ae4973da"
      },
      "execution_count": null,
      "outputs": [
        {
          "output_type": "display_data",
          "data": {
            "text/plain": [
              "<IPython.core.display.HTML object>"
            ],
            "text/html": []
          },
          "metadata": {}
        },
        {
          "output_type": "display_data",
          "data": {
            "text/plain": [
              "<Figure size 1200x1200 with 2 Axes>"
            ],
            "image/png": "[encoded data removed]"
          },
          "metadata": {}
        }
      ]
    },
    {
      "cell_type": "markdown",
      "source": [
        "\n",
        "\n",
        "The model sometimes gets confused with symptoms that appear in several categories, such as chicken pox fever, dengue fever, or common cold"
      ],
      "metadata": {
        "id": "8Vm7ZljBH9TC"
      }
    },
    {
      "cell_type": "code",
      "source": [
        "def make_diagnose(text):\n",
        "  inputs = tokenizer(text, return_tensors='pt')\n",
        "  device = 'cuda' if torch.cuda.is_available() else 'cpu'\n",
        "  input_ids = inputs['input_ids'].to(device)\n",
        "  attention_mask = inputs['attention_mask'].to(device)\n",
        "\n",
        "\n",
        "  with torch.no_grad():\n",
        "    outputs = model1(input_ids=input_ids, attention_mask=attention_mask)\n",
        "    logits = outputs.logits\n",
        "    predictions = torch.argmax(logits, dim=-1)\n",
        "\n",
        "  #print(predictions.item())\n",
        "  print(f'this symptoms could be {label_encoder.inverse_transform([predictions.item()])}')\n"
      ],
      "metadata": {
        "id": "ZH34Ci0g-edz"
      },
      "execution_count": null,
      "outputs": []
    },
    {
      "cell_type": "code",
      "source": [
        "text='My nose is stuffy and I sneeze all the time and my eyes are red.'\n",
        "make_diagnose(text)"
      ],
      "metadata": {
        "colab": {
          "base_uri": "https://localhost:8080/"
        },
        "id": "GBFfjxAi-g-d",
        "outputId": "d3f8c0d3-7bf0-4417-b771-d42790512dcb"
      },
      "execution_count": null,
      "outputs": [
        {
          "output_type": "stream",
          "name": "stdout",
          "text": [
            "this symptoms could be ['allergy']\n"
          ]
        }
      ]
    },
    {
      "cell_type": "markdown",
      "source": [
        "# Model Electra feature extraction"
      ],
      "metadata": {
        "id": "q26lSBab_QjN"
      }
    },
    {
      "cell_type": "markdown",
      "source": [
        "\n",
        "Same steps as for Bert"
      ],
      "metadata": {
        "id": "tIuAoNovIOjo"
      }
    },
    {
      "cell_type": "code",
      "source": [
        "token_train=tokenizer(dataset['train']['text'], padding=True, truncation=True, return_tensors='pt')\n",
        "token_test=tokenizer(dataset['test']['text'], padding=True, truncation=True, return_tensors='pt')"
      ],
      "metadata": {
        "id": "RSqjYiJyCNaY"
      },
      "execution_count": null,
      "outputs": []
    },
    {
      "cell_type": "code",
      "source": [
        "model1 = AutoModelForSequenceClassification.from_pretrained(model_checkpoint, num_labels=num_labels, output_hidden_states=True)"
      ],
      "metadata": {
        "colab": {
          "base_uri": "https://localhost:8080/"
        },
        "id": "Oxhg8W3FDRgR",
        "outputId": "97180ce6-ec78-4ee8-a9da-a770bbe00562"
      },
      "execution_count": null,
      "outputs": [
        {
          "output_type": "stream",
          "name": "stderr",
          "text": [
            "/usr/local/lib/python3.10/dist-packages/huggingface_hub/file_download.py:1132: FutureWarning: `resume_download` is deprecated and will be removed in version 1.0.0. Downloads always resume when possible. If you want to force a new download, use `force_download=True`.\n",
            "  warnings.warn(\n",
            "Some weights of ElectraForSequenceClassification were not initialized from the model checkpoint at google/electra-base-discriminator and are newly initialized: ['classifier.dense.bias', 'classifier.dense.weight', 'classifier.out_proj.bias', 'classifier.out_proj.weight']\n",
            "You should probably TRAIN this model on a down-stream task to be able to use it for predictions and inference.\n"
          ]
        }
      ]
    },
    {
      "cell_type": "code",
      "source": [
        "with torch.no_grad():\n",
        "    hidden_train = model1(**token_train)\n",
        "    hidden_test = model1(**token_test)"
      ],
      "metadata": {
        "id": "y2nlTog0-2Hj"
      },
      "execution_count": null,
      "outputs": []
    },
    {
      "cell_type": "code",
      "source": [
        "classifier = LogisticRegression()\n",
        "classifier.fit(cls_train, dataset['train']['label'])\n",
        "y_pred = classifier.predict(cls_test)\n",
        "accuracy = accuracy_score(dataset['test']['label'], y_pred)\n",
        "print(accuracy)"
      ],
      "metadata": {
        "colab": {
          "base_uri": "https://localhost:8080/"
        },
        "id": "9scZOseXDg6h",
        "outputId": "5f524bc0-1f50-4de2-8e4c-45db03bb38e4"
      },
      "execution_count": null,
      "outputs": [
        {
          "output_type": "stream",
          "name": "stdout",
          "text": [
            "0.8254716981132075\n"
          ]
        },
        {
          "output_type": "stream",
          "name": "stderr",
          "text": [
            "/usr/local/lib/python3.10/dist-packages/sklearn/linear_model/_logistic.py:458: ConvergenceWarning: lbfgs failed to converge (status=1):\n",
            "STOP: TOTAL NO. of ITERATIONS REACHED LIMIT.\n",
            "\n",
            "Increase the number of iterations (max_iter) or scale the data as shown in:\n",
            "    https://scikit-learn.org/stable/modules/preprocessing.html\n",
            "Please also refer to the documentation for alternative solver options:\n",
            "    https://scikit-learn.org/stable/modules/linear_model.html#logistic-regression\n",
            "  n_iter_i = _check_optimize_result(\n"
          ]
        }
      ]
    },
    {
      "cell_type": "markdown",
      "source": [
        "# Summary"
      ],
      "metadata": {
        "id": "e85V3gIoGbGs"
      }
    },
    {
      "cell_type": "markdown",
      "source": [
        "\n",
        "Both models performed well in classifying symptoms both on the test set and on new examples from outside the set. The distilbert model is faster and achieves lower loss compared to Electra and this may be due to the size of the model, but looking at the classification accuracy and taking into account 22 possible categories, it can be seen that the models were very well prepared. For both models, fine tuning works best, but with the use of feature extraction, classification using models such as linear regression or random forest is possible, but with significantly lower accuracy compared to the previous method."
      ],
      "metadata": {
        "id": "qqPApAMbGjvl"
      }
    }
  ]
}